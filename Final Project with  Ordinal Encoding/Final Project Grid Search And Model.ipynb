{
 "cells": [
  {
   "cell_type": "code",
   "execution_count": 1,
   "id": "middle-adolescent",
   "metadata": {},
   "outputs": [],
   "source": [
    "import pandas as pd\n",
    "import numpy as np\n",
    "from xgboost import XGBRegressor\n",
    "import sklearn.metrics\n",
    "import matplotlib.pyplot as plt\n",
    "from sklearn.model_selection import GridSearchCV\n",
    "from sklearn.ensemble import RandomForestRegressor\n",
    "from xgboost import XGBRegressor\n",
    "from sklearn.linear_model import Ridge,LinearRegression\n",
    "from sklearn.linear_model import LassoCV,RidgeCV\n",
    "from sklearn.model_selection import RepeatedStratifiedKFold\n",
    "from sklearn.model_selection import RandomizedSearchCV\n",
    "from sklearn.tree import DecisionTreeRegressor\n",
    "from tqdm import tqdm"
   ]
  },
  {
   "cell_type": "code",
   "execution_count": 2,
   "id": "thick-galaxy",
   "metadata": {},
   "outputs": [],
   "source": [
    "%matplotlib inline\n",
    "plt.style.use(\"seaborn-darkgrid\")\n",
    "random_state = 17\n",
    "np.random.seed(random_state)"
   ]
  },
  {
   "cell_type": "code",
   "execution_count": 3,
   "id": "adaptive-newcastle",
   "metadata": {},
   "outputs": [],
   "source": [
    "train_X = pd.read_csv(\"train_X.csv\", index_col=[0])\n",
    "train_Y = pd.read_csv(\"train_Y.csv\", index_col=[0])"
   ]
  },
  {
   "cell_type": "code",
   "execution_count": 4,
   "id": "forced-conservative",
   "metadata": {},
   "outputs": [],
   "source": [
    "test_X = pd.read_csv(\"test_X.csv\", index_col=[0])\n",
    "test_Y = pd.read_csv(\"test_Y.csv\", index_col=[0])"
   ]
  },
  {
   "cell_type": "code",
   "execution_count": 5,
   "id": "presidential-minutes",
   "metadata": {},
   "outputs": [],
   "source": [
    "cv = RepeatedStratifiedKFold(n_splits=5, n_repeats=1, random_state=random_state)"
   ]
  },
  {
   "cell_type": "code",
   "execution_count": 6,
   "id": "computational-soundtrack",
   "metadata": {},
   "outputs": [
    {
     "output_type": "stream",
     "name": "stderr",
     "text": [
      "  0%|          | 0/4 [00:00<?, ?it/s]****************************************************************************************************\n",
      "Evaluating Model LinearRegression()\n",
      "Fitting 5 folds for each of 1 candidates, totalling 5 fits\n",
      " 25%|██▌       | 1/4 [00:00<00:01,  1.51it/s]****************************************************************************************************\n",
      "Best Score: 0.6299032581885775\n",
      "Best Params: {}\n",
      "\n",
      "\n",
      " ****************************************************************************************************\n",
      "****************************************************************************************************\n",
      "Evaluating Model DecisionTreeRegressor(random_state=17)\n",
      "Fitting 5 folds for each of 1 candidates, totalling 5 fits\n",
      " 50%|█████     | 2/4 [00:02<00:02,  1.17s/it]****************************************************************************************************\n",
      "Best Score: 0.7286160056037798\n",
      "Best Params: {}\n",
      "\n",
      "\n",
      " ****************************************************************************************************\n",
      "****************************************************************************************************\n",
      "Evaluating Model XGBRegressor(base_score=None, booster=None, colsample_bylevel=None,\n",
      "             colsample_bynode=None, colsample_bytree=None, gamma=None, gpu_id=0,\n",
      "             importance_type='gain', interaction_constraints=None,\n",
      "             learning_rate=None, max_delta_step=None, max_depth=None,\n",
      "             min_child_weight=None, missing=nan, monotone_constraints=None,\n",
      "             n_estimators=100, n_jobs=None, num_parallel_tree=None,\n",
      "             random_state=None, reg_alpha=None, reg_lambda=None,\n",
      "             scale_pos_weight=None, subsample=None, tree_method=None,\n",
      "             validate_parameters=None, verbosity=None)\n",
      "Fitting 5 folds for each of 12 candidates, totalling 60 fits\n",
      " 75%|███████▌  | 3/4 [08:23<03:49, 229.73s/it]****************************************************************************************************\n",
      "Best Score: 0.898796071405315\n",
      "Best Params: {'learning_rate': 0.1, 'max_depth': 10, 'n_estimators': 150}\n",
      "\n",
      "\n",
      " ****************************************************************************************************\n",
      "****************************************************************************************************\n",
      "Evaluating Model RandomForestRegressor(random_state=17)\n",
      "Fitting 5 folds for each of 3 candidates, totalling 15 fits\n",
      "100%|██████████| 4/4 [11:47<00:00, 176.90s/it]****************************************************************************************************\n",
      "Best Score: 0.8689024890248838\n",
      "Best Params: {'n_estimators': 300}\n",
      "\n",
      "\n",
      " ****************************************************************************************************\n",
      "\n"
     ]
    }
   ],
   "source": [
    "param_grid = [\n",
    "              {},\n",
    "              {},\n",
    "              {'learning_rate': [0.1, 0.3], 'max_depth':[10, 30], 'n_estimators':[50, 100, 150]},\n",
    "              {'n_estimators':[100, 200, 300]},\n",
    "             ]\n",
    "estimators = [\n",
    "              LinearRegression(),\n",
    "              DecisionTreeRegressor(random_state=random_state),\n",
    "              XGBRegressor(gpu_id=0, objective='reg:squarederror'),\n",
    "              RandomForestRegressor(random_state=random_state),\n",
    "             ]\n",
    "for i in tqdm(range(len(estimators))):\n",
    "    print( \"*\" * 100)\n",
    "    print(\"Evaluating Model\", estimators[i])\n",
    "    grid_clf = GridSearchCV(estimators[i], param_grid=param_grid[i], cv=5, verbose=10, n_jobs=12)\n",
    "    grid_clf.fit(train_X.head(50_000), train_Y.head(50_000))\n",
    "    print(\"*\" * 100)\n",
    "    print(\"Best Score:\", grid_clf.best_score_)\n",
    "    print(\"Best Params:\", grid_clf.best_params_)\n",
    "    print(\"\\n\\n\", \"*\" * 100)\n",
    "    "
   ]
  },
  {
   "cell_type": "code",
   "execution_count": 8,
   "metadata": {},
   "outputs": [
    {
     "output_type": "execute_result",
     "data": {
      "text/plain": [
       "XGBRegressor(base_score=0.5, booster='gbtree', colsample_bylevel=1,\n",
       "             colsample_bynode=1, colsample_bytree=1, gamma=0, gpu_id=0,\n",
       "             importance_type='gain', interaction_constraints='',\n",
       "             learning_rate=0.1, max_delta_step=0, max_depth=10,\n",
       "             min_child_weight=1, missing=nan, monotone_constraints='()',\n",
       "             n_estimators=150, n_jobs=16, num_parallel_tree=1, random_state=0,\n",
       "             reg_alpha=0, reg_lambda=1, scale_pos_weight=1, subsample=1,\n",
       "             tree_method='exact', validate_parameters=1, verbosity=None)"
      ]
     },
     "metadata": {},
     "execution_count": 8
    }
   ],
   "source": [
    "model = XGBRegressor(learning_rate= 0.1, max_depth= 10, n_estimators= 150, gpu_id=0, objective='reg:squarederror')\n",
    "model.fit(train_X, train_Y)"
   ]
  },
  {
   "cell_type": "code",
   "execution_count": 9,
   "metadata": {},
   "outputs": [
    {
     "output_type": "execute_result",
     "data": {
      "text/plain": [
       "0.9302023815520439"
      ]
     },
     "metadata": {},
     "execution_count": 9
    }
   ],
   "source": [
    "prediction = model.predict(test_X)\n",
    "sklearn.metrics.r2_score(test_Y, prediction)"
   ]
  }
 ],
 "metadata": {
  "kernelspec": {
   "display_name": "Python 3",
   "language": "python",
   "name": "python3"
  },
  "language_info": {
   "codemirror_mode": {
    "name": "ipython",
    "version": 3
   },
   "file_extension": ".py",
   "mimetype": "text/x-python",
   "name": "python",
   "nbconvert_exporter": "python",
   "pygments_lexer": "ipython3",
   "version": "3.8.5-final"
  }
 },
 "nbformat": 4,
 "nbformat_minor": 5
}