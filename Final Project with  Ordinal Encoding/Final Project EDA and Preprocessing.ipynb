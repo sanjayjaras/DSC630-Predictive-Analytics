{
 "cells": [
  {
   "cell_type": "markdown",
   "metadata": {
    "pycharm": {
     "name": "#%% md\n"
    }
   },
   "source": [
    "# Final Project: Used Car Price Predictor\n",
    "### Author: Satish Agrawal, Sanjay Jaras\n",
    "### Bellevue University\n",
    "### DSC 630 - Predictive Analytics"
   ]
  },
  {
   "cell_type": "markdown",
   "metadata": {
    "pycharm": {
     "name": "#%% md\n"
    }
   },
   "source": [
    "## Import Libraries"
   ]
  },
  {
   "cell_type": "code",
   "execution_count": 1,
   "metadata": {},
   "outputs": [],
   "source": [
    "import pandas as pd\n",
    "import numpy as np\n",
    "import matplotlib.pyplot as plt\n",
    "from matplotlib import __version__ as mpv\n",
    "import types\n",
    "import seaborn as sns\n",
    "\n",
    "from sklearn import __version__ as sklv\n",
    "from sklearn.preprocessing import OrdinalEncoder, StandardScaler, LabelEncoder\n",
    "from sklearn.experimental import enable_iterative_imputer\n",
    "from sklearn.impute import IterativeImputer, SimpleImputer\n",
    "from sklearn.ensemble import ExtraTreesRegressor\n",
    "from sklearn.tree import DecisionTreeRegressor\n",
    "from sklearn.neighbors import KNeighborsRegressor,LocalOutlierFactor\n",
    "from sklearn.linear_model import SGDRegressor, LinearRegression, Lasso, BayesianRidge\n",
    "from sklearn.model_selection import train_test_split, cross_val_score\n",
    "from sklearn.base import BaseEstimator, TransformerMixin\n",
    "from sklearn.pipeline import Pipeline, FeatureUnion, make_pipeline"
   ]
  },
  {
   "cell_type": "code",
   "execution_count": 2,
   "metadata": {},
   "outputs": [
    {
     "name": "stdout",
     "output_type": "stream",
     "text": [
      "Using version 1.2.0 of pandas\n",
      "Using version 1.19.2 of numpy\n",
      "Using version 3.3.2 of matplotlib\n",
      "Using version 0.11.1 of seaborn\n",
      "Using version 0.24.0 of sklearn\n"
     ]
    }
   ],
   "source": [
    "print('Using version %s of pandas' % pd.__version__)\n",
    "print('Using version %s of numpy' % np.__version__)\n",
    "print('Using version %s of matplotlib' % mpv)\n",
    "print('Using version %s of seaborn' % sns.__version__)\n",
    "print('Using version %s of sklearn' % sklv)"
   ]
  },
  {
   "cell_type": "markdown",
   "metadata": {
    "pycharm": {
     "name": "#%% md\n"
    }
   },
   "source": [
    "## Configurations\n"
   ]
  },
  {
   "cell_type": "code",
   "execution_count": 3,
   "metadata": {
    "collapsed": false,
    "jupyter": {
     "outputs_hidden": false
    },
    "pycharm": {
     "name": "#%%\n"
    }
   },
   "outputs": [],
   "source": [
    "%matplotlib inline\n",
    "plt.style.use(\"seaborn-darkgrid\")\n",
    "random_state = 17\n",
    "np.random.seed(random_state)\n",
    "import warnings\n",
    "warnings.filterwarnings('ignore')"
   ]
  },
  {
   "cell_type": "markdown",
   "metadata": {
    "pycharm": {
     "name": "#%% md\n"
    }
   },
   "source": [
    "## Load Data\n",
    "Data downloaded from https://www.kaggle.com/austinreese/craigslist-carstrucks-data\n"
   ]
  },
  {
   "cell_type": "code",
   "execution_count": 4,
   "metadata": {
    "collapsed": false,
    "jupyter": {
     "outputs_hidden": false
    },
    "pycharm": {
     "name": "#%%\n"
    }
   },
   "outputs": [],
   "source": [
    "org_df = pd.read_csv(\"vehicles.csv\", index_col=[0], converters={\"cylinders\":str}, parse_dates=[\"posting_date\"])"
   ]
  },
  {
   "cell_type": "markdown",
   "metadata": {
    "pycharm": {
     "name": "#%% md\n"
    }
   },
   "source": [
    "### Show summary"
   ]
  },
  {
   "cell_type": "code",
   "execution_count": 5,
   "metadata": {},
   "outputs": [
    {
     "name": "stdout",
     "output_type": "stream",
     "text": [
      "<class 'pandas.core.frame.DataFrame'>\n",
      "Int64Index: 458213 entries, 0 to 458212\n",
      "Data columns (total 25 columns):\n",
      " #   Column        Non-Null Count   Dtype  \n",
      "---  ------        --------------   -----  \n",
      " 0   id            458213 non-null  int64  \n",
      " 1   url           458213 non-null  object \n",
      " 2   region        458213 non-null  object \n",
      " 3   region_url    458213 non-null  object \n",
      " 4   price         458213 non-null  int64  \n",
      " 5   year          457163 non-null  float64\n",
      " 6   manufacturer  439993 non-null  object \n",
      " 7   model         453367 non-null  object \n",
      " 8   condition     265273 non-null  object \n",
      " 9   cylinders     458213 non-null  object \n",
      " 10  fuel          454976 non-null  object \n",
      " 11  odometer      402910 non-null  float64\n",
      " 12  title_status  455636 non-null  object \n",
      " 13  transmission  455771 non-null  object \n",
      " 14  VIN           270664 non-null  object \n",
      " 15  drive         324025 non-null  object \n",
      " 16  size          136865 non-null  object \n",
      " 17  type          345475 non-null  object \n",
      " 18  paint_color   317370 non-null  object \n",
      " 19  image_url     458185 non-null  object \n",
      " 20  description   458143 non-null  object \n",
      " 21  state         458213 non-null  object \n",
      " 22  lat           450765 non-null  float64\n",
      " 23  long          450765 non-null  float64\n",
      " 24  posting_date  458185 non-null  object \n",
      "dtypes: float64(4), int64(2), object(19)\n",
      "memory usage: 90.9+ MB\n"
     ]
    }
   ],
   "source": [
    "org_df.info()"
   ]
  },
  {
   "cell_type": "markdown",
   "metadata": {},
   "source": [
    "### update \"posting_date\" data type to date."
   ]
  },
  {
   "cell_type": "code",
   "execution_count": 6,
   "metadata": {},
   "outputs": [],
   "source": [
    "org_df[\"posting_date\"]=pd.to_datetime(org_df.posting_date, utc=True)"
   ]
  },
  {
   "cell_type": "code",
   "execution_count": 7,
   "metadata": {
    "collapsed": false,
    "jupyter": {
     "outputs_hidden": false
    },
    "pycharm": {
     "name": "#%%\n"
    }
   },
   "outputs": [
    {
     "data": {
      "text/html": [
       "<div>\n",
       "<style scoped>\n",
       "    .dataframe tbody tr th:only-of-type {\n",
       "        vertical-align: middle;\n",
       "    }\n",
       "\n",
       "    .dataframe tbody tr th {\n",
       "        vertical-align: top;\n",
       "    }\n",
       "\n",
       "    .dataframe thead th {\n",
       "        text-align: right;\n",
       "    }\n",
       "</style>\n",
       "<table border=\"1\" class=\"dataframe\">\n",
       "  <thead>\n",
       "    <tr style=\"text-align: right;\">\n",
       "      <th></th>\n",
       "      <th>id</th>\n",
       "      <th>url</th>\n",
       "      <th>region</th>\n",
       "      <th>region_url</th>\n",
       "      <th>price</th>\n",
       "      <th>year</th>\n",
       "      <th>manufacturer</th>\n",
       "      <th>model</th>\n",
       "      <th>condition</th>\n",
       "      <th>cylinders</th>\n",
       "      <th>...</th>\n",
       "      <th>drive</th>\n",
       "      <th>size</th>\n",
       "      <th>type</th>\n",
       "      <th>paint_color</th>\n",
       "      <th>image_url</th>\n",
       "      <th>description</th>\n",
       "      <th>state</th>\n",
       "      <th>lat</th>\n",
       "      <th>long</th>\n",
       "      <th>posting_date</th>\n",
       "    </tr>\n",
       "  </thead>\n",
       "  <tbody>\n",
       "    <tr>\n",
       "      <th>0</th>\n",
       "      <td>7240372487</td>\n",
       "      <td>https://auburn.craigslist.org/ctd/d/auburn-uni...</td>\n",
       "      <td>auburn</td>\n",
       "      <td>https://auburn.craigslist.org</td>\n",
       "      <td>35990</td>\n",
       "      <td>2010.0</td>\n",
       "      <td>chevrolet</td>\n",
       "      <td>corvette grand sport</td>\n",
       "      <td>good</td>\n",
       "      <td>8 cylinders</td>\n",
       "      <td>...</td>\n",
       "      <td>rwd</td>\n",
       "      <td>NaN</td>\n",
       "      <td>other</td>\n",
       "      <td>NaN</td>\n",
       "      <td>https://images.craigslist.org/00N0N_ipkbHVZYf4...</td>\n",
       "      <td>Carvana is the safer way to buy a car During t...</td>\n",
       "      <td>al</td>\n",
       "      <td>32.590000</td>\n",
       "      <td>-85.480000</td>\n",
       "      <td>2020-12-02 14:11:30+00:00</td>\n",
       "    </tr>\n",
       "    <tr>\n",
       "      <th>1</th>\n",
       "      <td>7240309422</td>\n",
       "      <td>https://auburn.craigslist.org/cto/d/auburn-201...</td>\n",
       "      <td>auburn</td>\n",
       "      <td>https://auburn.craigslist.org</td>\n",
       "      <td>7500</td>\n",
       "      <td>2014.0</td>\n",
       "      <td>hyundai</td>\n",
       "      <td>sonata</td>\n",
       "      <td>excellent</td>\n",
       "      <td>4 cylinders</td>\n",
       "      <td>...</td>\n",
       "      <td>fwd</td>\n",
       "      <td>NaN</td>\n",
       "      <td>sedan</td>\n",
       "      <td>NaN</td>\n",
       "      <td>https://images.craigslist.org/00s0s_gBHYmJ5o7y...</td>\n",
       "      <td>I'll move to another city and try to sell my c...</td>\n",
       "      <td>al</td>\n",
       "      <td>32.547500</td>\n",
       "      <td>-85.468200</td>\n",
       "      <td>2020-12-02 08:11:50+00:00</td>\n",
       "    </tr>\n",
       "    <tr>\n",
       "      <th>2</th>\n",
       "      <td>7240224296</td>\n",
       "      <td>https://auburn.craigslist.org/cto/d/auburn-200...</td>\n",
       "      <td>auburn</td>\n",
       "      <td>https://auburn.craigslist.org</td>\n",
       "      <td>4900</td>\n",
       "      <td>2006.0</td>\n",
       "      <td>bmw</td>\n",
       "      <td>x3 3.0i</td>\n",
       "      <td>good</td>\n",
       "      <td>6 cylinders</td>\n",
       "      <td>...</td>\n",
       "      <td>NaN</td>\n",
       "      <td>NaN</td>\n",
       "      <td>SUV</td>\n",
       "      <td>blue</td>\n",
       "      <td>https://images.craigslist.org/00B0B_5zgEGWPOrt...</td>\n",
       "      <td>Clean 2006 BMW X3 3.0I.  Beautiful and rare Bl...</td>\n",
       "      <td>al</td>\n",
       "      <td>32.616807</td>\n",
       "      <td>-85.464149</td>\n",
       "      <td>2020-12-02 01:50:41+00:00</td>\n",
       "    </tr>\n",
       "    <tr>\n",
       "      <th>3</th>\n",
       "      <td>7240103965</td>\n",
       "      <td>https://auburn.craigslist.org/cto/d/lanett-tru...</td>\n",
       "      <td>auburn</td>\n",
       "      <td>https://auburn.craigslist.org</td>\n",
       "      <td>2000</td>\n",
       "      <td>1974.0</td>\n",
       "      <td>chevrolet</td>\n",
       "      <td>c-10</td>\n",
       "      <td>good</td>\n",
       "      <td>4 cylinders</td>\n",
       "      <td>...</td>\n",
       "      <td>rwd</td>\n",
       "      <td>full-size</td>\n",
       "      <td>pickup</td>\n",
       "      <td>blue</td>\n",
       "      <td>https://images.craigslist.org/00M0M_6o7KcDpArw...</td>\n",
       "      <td>1974 chev. truck (LONG BED) NEW starter front ...</td>\n",
       "      <td>al</td>\n",
       "      <td>32.861600</td>\n",
       "      <td>-85.216100</td>\n",
       "      <td>2020-12-01 21:54:45+00:00</td>\n",
       "    </tr>\n",
       "    <tr>\n",
       "      <th>4</th>\n",
       "      <td>7239983776</td>\n",
       "      <td>https://auburn.craigslist.org/cto/d/auburn-200...</td>\n",
       "      <td>auburn</td>\n",
       "      <td>https://auburn.craigslist.org</td>\n",
       "      <td>19500</td>\n",
       "      <td>2005.0</td>\n",
       "      <td>ford</td>\n",
       "      <td>f350 lariat</td>\n",
       "      <td>excellent</td>\n",
       "      <td>8 cylinders</td>\n",
       "      <td>...</td>\n",
       "      <td>4wd</td>\n",
       "      <td>full-size</td>\n",
       "      <td>pickup</td>\n",
       "      <td>blue</td>\n",
       "      <td>https://images.craigslist.org/00p0p_b95l1EgUfl...</td>\n",
       "      <td>2005 Ford F350 Lariat (Bullet Proofed). This t...</td>\n",
       "      <td>al</td>\n",
       "      <td>32.547500</td>\n",
       "      <td>-85.468200</td>\n",
       "      <td>2020-12-01 18:53:56+00:00</td>\n",
       "    </tr>\n",
       "  </tbody>\n",
       "</table>\n",
       "<p>5 rows × 25 columns</p>\n",
       "</div>"
      ],
      "text/plain": [
       "           id                                                url  region  \\\n",
       "0  7240372487  https://auburn.craigslist.org/ctd/d/auburn-uni...  auburn   \n",
       "1  7240309422  https://auburn.craigslist.org/cto/d/auburn-201...  auburn   \n",
       "2  7240224296  https://auburn.craigslist.org/cto/d/auburn-200...  auburn   \n",
       "3  7240103965  https://auburn.craigslist.org/cto/d/lanett-tru...  auburn   \n",
       "4  7239983776  https://auburn.craigslist.org/cto/d/auburn-200...  auburn   \n",
       "\n",
       "                      region_url  price    year manufacturer  \\\n",
       "0  https://auburn.craigslist.org  35990  2010.0    chevrolet   \n",
       "1  https://auburn.craigslist.org   7500  2014.0      hyundai   \n",
       "2  https://auburn.craigslist.org   4900  2006.0          bmw   \n",
       "3  https://auburn.craigslist.org   2000  1974.0    chevrolet   \n",
       "4  https://auburn.craigslist.org  19500  2005.0         ford   \n",
       "\n",
       "                  model  condition    cylinders  ... drive       size    type  \\\n",
       "0  corvette grand sport       good  8 cylinders  ...   rwd        NaN   other   \n",
       "1                sonata  excellent  4 cylinders  ...   fwd        NaN   sedan   \n",
       "2               x3 3.0i       good  6 cylinders  ...   NaN        NaN     SUV   \n",
       "3                  c-10       good  4 cylinders  ...   rwd  full-size  pickup   \n",
       "4           f350 lariat  excellent  8 cylinders  ...   4wd  full-size  pickup   \n",
       "\n",
       "  paint_color                                          image_url  \\\n",
       "0         NaN  https://images.craigslist.org/00N0N_ipkbHVZYf4...   \n",
       "1         NaN  https://images.craigslist.org/00s0s_gBHYmJ5o7y...   \n",
       "2        blue  https://images.craigslist.org/00B0B_5zgEGWPOrt...   \n",
       "3        blue  https://images.craigslist.org/00M0M_6o7KcDpArw...   \n",
       "4        blue  https://images.craigslist.org/00p0p_b95l1EgUfl...   \n",
       "\n",
       "                                         description state        lat  \\\n",
       "0  Carvana is the safer way to buy a car During t...    al  32.590000   \n",
       "1  I'll move to another city and try to sell my c...    al  32.547500   \n",
       "2  Clean 2006 BMW X3 3.0I.  Beautiful and rare Bl...    al  32.616807   \n",
       "3  1974 chev. truck (LONG BED) NEW starter front ...    al  32.861600   \n",
       "4  2005 Ford F350 Lariat (Bullet Proofed). This t...    al  32.547500   \n",
       "\n",
       "        long              posting_date  \n",
       "0 -85.480000 2020-12-02 14:11:30+00:00  \n",
       "1 -85.468200 2020-12-02 08:11:50+00:00  \n",
       "2 -85.464149 2020-12-02 01:50:41+00:00  \n",
       "3 -85.216100 2020-12-01 21:54:45+00:00  \n",
       "4 -85.468200 2020-12-01 18:53:56+00:00  \n",
       "\n",
       "[5 rows x 25 columns]"
      ]
     },
     "execution_count": 7,
     "metadata": {},
     "output_type": "execute_result"
    }
   ],
   "source": [
    "org_df.head()"
   ]
  },
  {
   "cell_type": "markdown",
   "metadata": {},
   "source": [
    "### Split Dataset into training and test set"
   ]
  },
  {
   "cell_type": "code",
   "execution_count": 8,
   "metadata": {},
   "outputs": [],
   "source": [
    "train_set, test_set = train_test_split(org_df, test_size=0.2, random_state=random_state)\n",
    "train_set_copy = train_set.copy()"
   ]
  },
  {
   "cell_type": "code",
   "execution_count": 9,
   "metadata": {},
   "outputs": [
    {
     "name": "stdout",
     "output_type": "stream",
     "text": [
      "Shape of training set: (366570, 25)\n",
      "Shape of test set: (91643, 25)\n"
     ]
    }
   ],
   "source": [
    "print(\"Shape of training set:\", train_set.shape)\n",
    "print(\"Shape of test set:\", test_set.shape)"
   ]
  },
  {
   "cell_type": "code",
   "execution_count": 10,
   "metadata": {},
   "outputs": [
    {
     "name": "stdout",
     "output_type": "stream",
     "text": [
      "<class 'pandas.core.frame.DataFrame'>\n",
      "Int64Index: 366570 entries, 341103 to 64753\n",
      "Data columns (total 25 columns):\n",
      " #   Column        Non-Null Count   Dtype              \n",
      "---  ------        --------------   -----              \n",
      " 0   id            366570 non-null  int64              \n",
      " 1   url           366570 non-null  object             \n",
      " 2   region        366570 non-null  object             \n",
      " 3   region_url    366570 non-null  object             \n",
      " 4   price         366570 non-null  int64              \n",
      " 5   year          365708 non-null  float64            \n",
      " 6   manufacturer  351930 non-null  object             \n",
      " 7   model         362709 non-null  object             \n",
      " 8   condition     212093 non-null  object             \n",
      " 9   cylinders     366570 non-null  object             \n",
      " 10  fuel          363991 non-null  object             \n",
      " 11  odometer      322230 non-null  float64            \n",
      " 12  title_status  364542 non-null  object             \n",
      " 13  transmission  364656 non-null  object             \n",
      " 14  VIN           216499 non-null  object             \n",
      " 15  drive         259034 non-null  object             \n",
      " 16  size          109342 non-null  object             \n",
      " 17  type          276289 non-null  object             \n",
      " 18  paint_color   253896 non-null  object             \n",
      " 19  image_url     366543 non-null  object             \n",
      " 20  description   366505 non-null  object             \n",
      " 21  state         366570 non-null  object             \n",
      " 22  lat           360584 non-null  float64            \n",
      " 23  long          360584 non-null  float64            \n",
      " 24  posting_date  366543 non-null  datetime64[ns, UTC]\n",
      "dtypes: datetime64[ns, UTC](1), float64(4), int64(2), object(18)\n",
      "memory usage: 72.7+ MB\n"
     ]
    }
   ],
   "source": [
    "train_set.info()"
   ]
  },
  {
   "cell_type": "markdown",
   "metadata": {},
   "source": [
    "### We will not be using following columns as they are not related to vehicle price\n",
    "* url\n",
    "* id\n",
    "* image_url\n",
    "* description\n",
    "* region_url\n",
    "* VIN"
   ]
  },
  {
   "cell_type": "markdown",
   "metadata": {},
   "source": [
    "### Create list of numeric and categorical attributes"
   ]
  },
  {
   "cell_type": "code",
   "execution_count": 11,
   "metadata": {},
   "outputs": [],
   "source": [
    "num_attr = [\"year\", \"odometer\", \"lat\", \"long\"]\n",
    "cat_attr = [\"region\", \"manufacturer\", \"model\", \"condition\", \"cylinders\", \"fuel\", \"title_status\", \"transmission\", \"drive\", \"size\", \"paint_color\", \"state\", \"type\"]"
   ]
  },
  {
   "cell_type": "markdown",
   "metadata": {},
   "source": [
    "### Create Class for outlier extraction to be used in pipelin"
   ]
  },
  {
   "cell_type": "code",
   "execution_count": 12,
   "metadata": {},
   "outputs": [],
   "source": [
    "class OutlierExtraction(BaseEstimator, TransformerMixin):\n",
    "    def __init__(self, attrmap ):\n",
    "        self.attrmap = attrmap\n",
    "\n",
    "    def transform(self, df):\n",
    "        X = df.copy()\n",
    "        for attr in self.attrmap:\n",
    "            val = self.attrmap[attr]\n",
    "            #min, max = X[attr].quantile([val[0], val[1]])\n",
    "            min, max = val[0], val[1]\n",
    "            X = X[(X[attr]>=min) & (X[attr]<=max)]\n",
    "        return X\n",
    "\n",
    "    def fit(self, X, y = None):\n",
    "        return self"
   ]
  },
  {
   "cell_type": "markdown",
   "metadata": {},
   "source": [
    "### Check distribution and outlier for years columns"
   ]
  },
  {
   "cell_type": "code",
   "execution_count": 13,
   "metadata": {},
   "outputs": [
    {
     "data": {
      "text/plain": [
       "count    365708.000000\n",
       "mean       2010.745543\n",
       "std           8.875581\n",
       "min        1900.000000\n",
       "25%        2008.000000\n",
       "50%        2013.000000\n",
       "75%        2016.000000\n",
       "max        2021.000000\n",
       "Name: year, dtype: float64"
      ]
     },
     "execution_count": 13,
     "metadata": {},
     "output_type": "execute_result"
    }
   ],
   "source": [
    "train_set.year.describe()"
   ]
  },
  {
   "cell_type": "code",
   "execution_count": 14,
   "metadata": {},
   "outputs": [
    {
     "data": {
      "image/png": "[encoded data removed]",
      "text/plain": [
       "<Figure size 1152x576 with 1 Axes>"
      ]
     },
     "metadata": {},
     "output_type": "display_data"
    }
   ],
   "source": [
    "sns.displot(x=train_set.year, kde=True, height=8, aspect=2 )\n",
    "plt.show()"
   ]
  },
  {
   "cell_type": "markdown",
   "metadata": {},
   "source": [
    "### Drop outlier year records with .10 and 0.999 percntile range"
   ]
  },
  {
   "cell_type": "code",
   "execution_count": 15,
   "metadata": {},
   "outputs": [],
   "source": [
    "est = OutlierExtraction({\"year\":[1990, 2021]})\n",
    "train_set = est.fit_transform(train_set)"
   ]
  },
  {
   "cell_type": "markdown",
   "metadata": {},
   "source": [
    "### Year distribution after outlier removal"
   ]
  },
  {
   "cell_type": "code",
   "execution_count": 16,
   "metadata": {},
   "outputs": [
    {
     "data": {
      "text/plain": [
       "count    356351.000000\n",
       "mean       2011.795300\n",
       "std           5.653006\n",
       "min        1990.000000\n",
       "25%        2008.000000\n",
       "50%        2013.000000\n",
       "75%        2016.000000\n",
       "max        2021.000000\n",
       "Name: year, dtype: float64"
      ]
     },
     "execution_count": 16,
     "metadata": {},
     "output_type": "execute_result"
    }
   ],
   "source": [
    "train_set.year.describe()"
   ]
  },
  {
   "cell_type": "code",
   "execution_count": 17,
   "metadata": {},
   "outputs": [
    {
     "data": {
      "image/png": "[encoded data removed]",
      "text/plain": [
       "<Figure size 1152x576 with 1 Axes>"
      ]
     },
     "metadata": {},
     "output_type": "display_data"
    }
   ],
   "source": [
    "sns.displot(x=train_set.year, kde=True, height=8, aspect=2 )\n",
    "plt.show()"
   ]
  },
  {
   "cell_type": "markdown",
   "metadata": {},
   "source": [
    "### Check distribution and outlier for odometer"
   ]
  },
  {
   "cell_type": "code",
   "execution_count": 18,
   "metadata": {},
   "outputs": [
    {
     "data": {
      "text/plain": [
       "count    3.157770e+05\n",
       "mean     1.028316e+05\n",
       "std      3.645318e+06\n",
       "min      0.000000e+00\n",
       "25%      4.127100e+04\n",
       "50%      8.823400e+04\n",
       "75%      1.348010e+05\n",
       "max      2.043756e+09\n",
       "Name: odometer, dtype: float64"
      ]
     },
     "execution_count": 18,
     "metadata": {},
     "output_type": "execute_result"
    }
   ],
   "source": [
    "train_set.odometer.describe()"
   ]
  },
  {
   "cell_type": "code",
   "execution_count": 19,
   "metadata": {},
   "outputs": [
    {
     "data": {
      "image/png": "[encoded data removed]",
      "text/plain": [
       "<Figure size 1152x576 with 1 Axes>"
      ]
     },
     "metadata": {},
     "output_type": "display_data"
    }
   ],
   "source": [
    "sns.displot(x=train_set.odometer, kde=True, rug=True, height=8, bins=500, aspect=2 )\n",
    "plt.show()"
   ]
  },
  {
   "cell_type": "markdown",
   "metadata": {},
   "source": [
    "### Drop records with outlier odometer"
   ]
  },
  {
   "cell_type": "code",
   "execution_count": 20,
   "metadata": {},
   "outputs": [],
   "source": [
    "est = OutlierExtraction({\"odometer\":[0, 170000]})\n",
    "train_set = est.fit_transform(train_set)"
   ]
  },
  {
   "cell_type": "code",
   "execution_count": 21,
   "metadata": {},
   "outputs": [
    {
     "data": {
      "text/plain": [
       "count    278995.000000\n",
       "mean      78355.557967\n",
       "std       47251.788371\n",
       "min           0.000000\n",
       "25%       36715.000000\n",
       "50%       77681.000000\n",
       "75%      116960.000000\n",
       "max      170000.000000\n",
       "Name: odometer, dtype: float64"
      ]
     },
     "execution_count": 21,
     "metadata": {},
     "output_type": "execute_result"
    }
   ],
   "source": [
    "train_set.odometer.describe()"
   ]
  },
  {
   "cell_type": "code",
   "execution_count": 22,
   "metadata": {},
   "outputs": [
    {
     "data": {
      "image/png": "[encoded data removed]",
      "text/plain": [
       "<Figure size 1152x576 with 1 Axes>"
      ]
     },
     "metadata": {},
     "output_type": "display_data"
    }
   ],
   "source": [
    "sns.displot(x=train_set.odometer, kde=True, rug=True, height=8, bins=50, aspect=2 )\n",
    "plt.show()"
   ]
  },
  {
   "cell_type": "markdown",
   "metadata": {},
   "source": [
    "### Check distribution and outlier for price"
   ]
  },
  {
   "cell_type": "code",
   "execution_count": 23,
   "metadata": {},
   "outputs": [
    {
     "data": {
      "text/plain": [
       "count    2.789950e+05\n",
       "mean     3.033341e+04\n",
       "std      6.851081e+06\n",
       "min      0.000000e+00\n",
       "25%      6.000000e+03\n",
       "50%      1.299900e+04\n",
       "75%      2.399000e+04\n",
       "max      3.615215e+09\n",
       "Name: price, dtype: float64"
      ]
     },
     "execution_count": 23,
     "metadata": {},
     "output_type": "execute_result"
    }
   ],
   "source": [
    "train_set.price.describe()"
   ]
  },
  {
   "cell_type": "code",
   "execution_count": 24,
   "metadata": {},
   "outputs": [
    {
     "data": {
      "image/png": "[encoded data removed]",
      "text/plain": [
       "<Figure size 1152x576 with 1 Axes>"
      ]
     },
     "metadata": {},
     "output_type": "display_data"
    }
   ],
   "source": [
    "sns.displot(x=train_set.price, kde=True, rug=True, height=8, bins=50, aspect=2 )\n",
    "plt.show()"
   ]
  },
  {
   "cell_type": "markdown",
   "metadata": {},
   "source": [
    "### Drop outlier price records "
   ]
  },
  {
   "cell_type": "code",
   "execution_count": 25,
   "metadata": {},
   "outputs": [],
   "source": [
    "est = OutlierExtraction({\"price\":[2000, 60000]})\n",
    "train_set = est.fit_transform(train_set)"
   ]
  },
  {
   "cell_type": "code",
   "execution_count": 26,
   "metadata": {},
   "outputs": [
    {
     "data": {
      "text/plain": [
       "count    244394.000000\n",
       "mean      17850.377878\n",
       "std       11934.564108\n",
       "min        2000.000000\n",
       "25%        7999.000000\n",
       "50%       14990.000000\n",
       "75%       25000.000000\n",
       "max       60000.000000\n",
       "Name: price, dtype: float64"
      ]
     },
     "execution_count": 26,
     "metadata": {},
     "output_type": "execute_result"
    }
   ],
   "source": [
    "train_set.price.describe()"
   ]
  },
  {
   "cell_type": "markdown",
   "metadata": {},
   "source": [
    "### Year distribution after outlier removal"
   ]
  },
  {
   "cell_type": "code",
   "execution_count": 27,
   "metadata": {},
   "outputs": [
    {
     "data": {
      "image/png": "[encoded data removed]",
      "text/plain": [
       "<Figure size 1152x576 with 1 Axes>"
      ]
     },
     "metadata": {},
     "output_type": "display_data"
    }
   ],
   "source": [
    "sns.displot(x=train_set.price, kde=True, rug=True, height=8, bins=50, aspect=2 )\n",
    "plt.show()"
   ]
  },
  {
   "cell_type": "markdown",
   "metadata": {},
   "source": [
    "### Find Missing Values"
   ]
  },
  {
   "cell_type": "code",
   "execution_count": 28,
   "metadata": {},
   "outputs": [
    {
     "data": {
      "text/plain": [
       "id                   0\n",
       "url                  0\n",
       "region               0\n",
       "region_url           0\n",
       "price                0\n",
       "year                 0\n",
       "manufacturer      5791\n",
       "model             1234\n",
       "condition        92712\n",
       "cylinders            0\n",
       "fuel              1739\n",
       "odometer             0\n",
       "title_status      1030\n",
       "transmission      1045\n",
       "VIN              76888\n",
       "drive            59744\n",
       "size            172494\n",
       "type             43129\n",
       "paint_color      58376\n",
       "image_url            0\n",
       "description         34\n",
       "state                0\n",
       "lat               1807\n",
       "long              1807\n",
       "posting_date         0\n",
       "dtype: int64"
      ]
     },
     "execution_count": 28,
     "metadata": {},
     "output_type": "execute_result"
    }
   ],
   "source": [
    "train_set.isnull().sum()"
   ]
  },
  {
   "cell_type": "markdown",
   "metadata": {},
   "source": [
    "### Find empty strings in cylinder columns"
   ]
  },
  {
   "cell_type": "code",
   "execution_count": 29,
   "metadata": {},
   "outputs": [
    {
     "data": {
      "text/plain": [
       "82256"
      ]
     },
     "execution_count": 29,
     "metadata": {},
     "output_type": "execute_result"
    }
   ],
   "source": [
    "test = train_set.cylinders[train_set.cylinders == \"\"]\n",
    "test.count()"
   ]
  },
  {
   "cell_type": "markdown",
   "metadata": {},
   "source": [
    "### Create class that can be used in pipeline to replace blank values with NaN"
   ]
  },
  {
   "cell_type": "code",
   "execution_count": 30,
   "metadata": {},
   "outputs": [],
   "source": [
    "class ReplaceBlankValues(BaseEstimator, TransformerMixin):\n",
    "    def __init__(self):\n",
    "        pass\n",
    "\n",
    "    def transform(self, X):\n",
    "        for col in X.columns: \n",
    "            ser = X[col]\n",
    "            ser[ser == \"\"] = np.NaN\n",
    "        return X\n",
    "\n",
    "    def fit(self, X, y = None):\n",
    "        return self"
   ]
  },
  {
   "cell_type": "code",
   "execution_count": 31,
   "metadata": {},
   "outputs": [],
   "source": [
    "transfomer = ReplaceBlankValues()\n",
    "df_temp = pd.DataFrame(transfomer.fit_transform(train_set))\n",
    "df_temp.columns = train_set.columns\n",
    "train_set = df_temp"
   ]
  },
  {
   "cell_type": "code",
   "execution_count": 32,
   "metadata": {},
   "outputs": [
    {
     "data": {
      "text/plain": [
       "id                   0\n",
       "url                  0\n",
       "region               0\n",
       "region_url           0\n",
       "price                0\n",
       "year                 0\n",
       "manufacturer      5791\n",
       "model             1234\n",
       "condition        92712\n",
       "cylinders        82256\n",
       "fuel              1739\n",
       "odometer             0\n",
       "title_status      1030\n",
       "transmission      1045\n",
       "VIN              76888\n",
       "drive            59744\n",
       "size            172494\n",
       "type             43129\n",
       "paint_color      58376\n",
       "image_url            0\n",
       "description         34\n",
       "state                0\n",
       "lat               1807\n",
       "long              1807\n",
       "posting_date         0\n",
       "dtype: int64"
      ]
     },
     "execution_count": 32,
     "metadata": {},
     "output_type": "execute_result"
    }
   ],
   "source": [
    "train_set.isnull().sum()"
   ]
  },
  {
   "cell_type": "markdown",
   "metadata": {},
   "source": [
    "### Bar to find columns with missing values more than 50%"
   ]
  },
  {
   "cell_type": "code",
   "execution_count": 33,
   "metadata": {},
   "outputs": [
    {
     "data": {
      "image/png": "[encoded data removed]",
      "text/plain": [
       "<Figure size 1584x1080 with 1 Axes>"
      ]
     },
     "metadata": {},
     "output_type": "display_data"
    }
   ],
   "source": [
    "train_set.isnull().sum()\n",
    "total = [len(train_set.index) for i in range(train_set.shape[1]) ]\n",
    "\n",
    "fig, ax =plt.subplots(1,figsize=(22, 15))\n",
    "g=sns.barplot(x=train_set.columns, y=train_set.isnull().sum())\n",
    "ax1= g.axes\n",
    "ax1.axhline(len(train_set.index)/2, ls='--', color=\"r\")\n",
    "ax1.text(0.5,len(train_set.index)/2, \"50% Records\")\n",
    "plt.ylim(0, len(train_set.index))\n",
    "plt.show()"
   ]
  },
  {
   "cell_type": "markdown",
   "metadata": {},
   "source": [
    "### We can drop column size as it is having more than 50% missing values"
   ]
  },
  {
   "cell_type": "code",
   "execution_count": 34,
   "metadata": {},
   "outputs": [],
   "source": [
    "train_set.drop(columns=\"size\", inplace=True)\n",
    "cat_attr.remove(\"size\")"
   ]
  },
  {
   "cell_type": "code",
   "execution_count": 35,
   "metadata": {},
   "outputs": [
    {
     "data": {
      "text/plain": [
       "['region',\n",
       " 'manufacturer',\n",
       " 'model',\n",
       " 'condition',\n",
       " 'cylinders',\n",
       " 'fuel',\n",
       " 'title_status',\n",
       " 'transmission',\n",
       " 'drive',\n",
       " 'paint_color',\n",
       " 'state',\n",
       " 'type']"
      ]
     },
     "execution_count": 35,
     "metadata": {},
     "output_type": "execute_result"
    }
   ],
   "source": [
    "cat_attr"
   ]
  },
  {
   "cell_type": "markdown",
   "metadata": {},
   "source": [
    "### Convert categorical features to numeric using Label Encoder"
   ]
  },
  {
   "cell_type": "markdown",
   "metadata": {},
   "source": [
    "### We are using OrdinalEncoder from sklearn >0.24, it doesn't thorugh exception when encounters new categories while predicting"
   ]
  },
  {
   "cell_type": "code",
   "execution_count": 36,
   "metadata": {},
   "outputs": [],
   "source": [
    "class MyLabelEncoder(BaseEstimator, TransformerMixin):\n",
    "    def __init__(self, attributes):\n",
    "        self.labelEncoders = {}\n",
    "        self.attributes = attributes\n",
    "\n",
    "    def transform(self, df):\n",
    "        X = df.copy()\n",
    "        for cat in self.attributes:\n",
    "            label_encoder = self.labelEncoders[cat]\n",
    "            nonulls = np.array(X[cat].dropna())\n",
    "            impute_reshape = nonulls.reshape(-1,1)\n",
    "            impute_ordinal = label_encoder.transform(impute_reshape)\n",
    "            X[cat].loc[X[cat].notnull()] = np.squeeze(impute_ordinal)\n",
    "        return X\n",
    "\n",
    "    def fit(self, X, y = None):\n",
    "        for cat in self.attributes:\n",
    "            labelEncoder = OrdinalEncoder(handle_unknown='use_encoded_value', unknown_value=np.nan)\n",
    "            ser = X[cat].dropna()\n",
    "            labelEncoder.fit(ser.to_numpy().reshape(-1,1))\n",
    "            self.labelEncoders[cat] = labelEncoder       \n",
    "        return self\n"
   ]
  },
  {
   "cell_type": "code",
   "execution_count": 37,
   "metadata": {},
   "outputs": [
    {
     "data": {
      "text/plain": [
       "MyLabelEncoder(attributes=['region', 'manufacturer', 'model', 'condition',\n",
       "                           'cylinders', 'fuel', 'title_status', 'transmission',\n",
       "                           'drive', 'paint_color', 'state', 'type'])"
      ]
     },
     "execution_count": 37,
     "metadata": {},
     "output_type": "execute_result"
    }
   ],
   "source": [
    "transformer = MyLabelEncoder(cat_attr)\n",
    "transformer.fit(train_set)"
   ]
  },
  {
   "cell_type": "code",
   "execution_count": 38,
   "metadata": {},
   "outputs": [],
   "source": [
    "trans_df = transformer.transform(train_set)"
   ]
  },
  {
   "cell_type": "code",
   "execution_count": 39,
   "metadata": {},
   "outputs": [
    {
     "data": {
      "text/html": [
       "<div>\n",
       "<style scoped>\n",
       "    .dataframe tbody tr th:only-of-type {\n",
       "        vertical-align: middle;\n",
       "    }\n",
       "\n",
       "    .dataframe tbody tr th {\n",
       "        vertical-align: top;\n",
       "    }\n",
       "\n",
       "    .dataframe thead th {\n",
       "        text-align: right;\n",
       "    }\n",
       "</style>\n",
       "<table border=\"1\" class=\"dataframe\">\n",
       "  <thead>\n",
       "    <tr style=\"text-align: right;\">\n",
       "      <th></th>\n",
       "      <th>region</th>\n",
       "      <th>manufacturer</th>\n",
       "      <th>model</th>\n",
       "      <th>condition</th>\n",
       "      <th>cylinders</th>\n",
       "      <th>fuel</th>\n",
       "      <th>title_status</th>\n",
       "      <th>transmission</th>\n",
       "      <th>drive</th>\n",
       "      <th>paint_color</th>\n",
       "      <th>state</th>\n",
       "      <th>type</th>\n",
       "    </tr>\n",
       "  </thead>\n",
       "  <tbody>\n",
       "    <tr>\n",
       "      <th>428050</th>\n",
       "      <td>169.0</td>\n",
       "      <td>16.0</td>\n",
       "      <td>3780.0</td>\n",
       "      <td>3.0</td>\n",
       "      <td>3.0</td>\n",
       "      <td>2.0</td>\n",
       "      <td>0.0</td>\n",
       "      <td>0.0</td>\n",
       "      <td>1.0</td>\n",
       "      <td>NaN</td>\n",
       "      <td>48.0</td>\n",
       "      <td>9.0</td>\n",
       "    </tr>\n",
       "    <tr>\n",
       "      <th>18887</th>\n",
       "      <td>105.0</td>\n",
       "      <td>13.0</td>\n",
       "      <td>18569.0</td>\n",
       "      <td>2.0</td>\n",
       "      <td>6.0</td>\n",
       "      <td>2.0</td>\n",
       "      <td>0.0</td>\n",
       "      <td>0.0</td>\n",
       "      <td>NaN</td>\n",
       "      <td>10.0</td>\n",
       "      <td>2.0</td>\n",
       "      <td>7.0</td>\n",
       "    </tr>\n",
       "    <tr>\n",
       "      <th>186119</th>\n",
       "      <td>44.0</td>\n",
       "      <td>30.0</td>\n",
       "      <td>13066.0</td>\n",
       "      <td>2.0</td>\n",
       "      <td>5.0</td>\n",
       "      <td>2.0</td>\n",
       "      <td>0.0</td>\n",
       "      <td>0.0</td>\n",
       "      <td>0.0</td>\n",
       "      <td>NaN</td>\n",
       "      <td>19.0</td>\n",
       "      <td>NaN</td>\n",
       "    </tr>\n",
       "    <tr>\n",
       "      <th>379234</th>\n",
       "      <td>96.0</td>\n",
       "      <td>30.0</td>\n",
       "      <td>18430.0</td>\n",
       "      <td>2.0</td>\n",
       "      <td>5.0</td>\n",
       "      <td>2.0</td>\n",
       "      <td>0.0</td>\n",
       "      <td>0.0</td>\n",
       "      <td>2.0</td>\n",
       "      <td>5.0</td>\n",
       "      <td>43.0</td>\n",
       "      <td>0.0</td>\n",
       "    </tr>\n",
       "    <tr>\n",
       "      <th>64763</th>\n",
       "      <td>374.0</td>\n",
       "      <td>30.0</td>\n",
       "      <td>17669.0</td>\n",
       "      <td>0.0</td>\n",
       "      <td>3.0</td>\n",
       "      <td>2.0</td>\n",
       "      <td>0.0</td>\n",
       "      <td>0.0</td>\n",
       "      <td>NaN</td>\n",
       "      <td>9.0</td>\n",
       "      <td>4.0</td>\n",
       "      <td>NaN</td>\n",
       "    </tr>\n",
       "    <tr>\n",
       "      <th>273084</th>\n",
       "      <td>42.0</td>\n",
       "      <td>4.0</td>\n",
       "      <td>18608.0</td>\n",
       "      <td>NaN</td>\n",
       "      <td>3.0</td>\n",
       "      <td>2.0</td>\n",
       "      <td>0.0</td>\n",
       "      <td>0.0</td>\n",
       "      <td>2.0</td>\n",
       "      <td>8.0</td>\n",
       "      <td>34.0</td>\n",
       "      <td>2.0</td>\n",
       "    </tr>\n",
       "    <tr>\n",
       "      <th>193169</th>\n",
       "      <td>49.0</td>\n",
       "      <td>7.0</td>\n",
       "      <td>4213.0</td>\n",
       "      <td>NaN</td>\n",
       "      <td>NaN</td>\n",
       "      <td>2.0</td>\n",
       "      <td>0.0</td>\n",
       "      <td>0.0</td>\n",
       "      <td>NaN</td>\n",
       "      <td>NaN</td>\n",
       "      <td>22.0</td>\n",
       "      <td>NaN</td>\n",
       "    </tr>\n",
       "    <tr>\n",
       "      <th>144582</th>\n",
       "      <td>31.0</td>\n",
       "      <td>7.0</td>\n",
       "      <td>15300.0</td>\n",
       "      <td>2.0</td>\n",
       "      <td>6.0</td>\n",
       "      <td>2.0</td>\n",
       "      <td>0.0</td>\n",
       "      <td>0.0</td>\n",
       "      <td>0.0</td>\n",
       "      <td>9.0</td>\n",
       "      <td>15.0</td>\n",
       "      <td>10.0</td>\n",
       "    </tr>\n",
       "    <tr>\n",
       "      <th>327153</th>\n",
       "      <td>275.0</td>\n",
       "      <td>33.0</td>\n",
       "      <td>NaN</td>\n",
       "      <td>NaN</td>\n",
       "      <td>NaN</td>\n",
       "      <td>0.0</td>\n",
       "      <td>0.0</td>\n",
       "      <td>0.0</td>\n",
       "      <td>0.0</td>\n",
       "      <td>9.0</td>\n",
       "      <td>37.0</td>\n",
       "      <td>8.0</td>\n",
       "    </tr>\n",
       "    <tr>\n",
       "      <th>256611</th>\n",
       "      <td>47.0</td>\n",
       "      <td>16.0</td>\n",
       "      <td>3780.0</td>\n",
       "      <td>NaN</td>\n",
       "      <td>3.0</td>\n",
       "      <td>2.0</td>\n",
       "      <td>0.0</td>\n",
       "      <td>0.0</td>\n",
       "      <td>1.0</td>\n",
       "      <td>8.0</td>\n",
       "      <td>31.0</td>\n",
       "      <td>9.0</td>\n",
       "    </tr>\n",
       "  </tbody>\n",
       "</table>\n",
       "</div>"
      ],
      "text/plain": [
       "        region manufacturer    model condition cylinders fuel title_status  \\\n",
       "428050   169.0         16.0   3780.0       3.0       3.0  2.0          0.0   \n",
       "18887    105.0         13.0  18569.0       2.0       6.0  2.0          0.0   \n",
       "186119    44.0         30.0  13066.0       2.0       5.0  2.0          0.0   \n",
       "379234    96.0         30.0  18430.0       2.0       5.0  2.0          0.0   \n",
       "64763    374.0         30.0  17669.0       0.0       3.0  2.0          0.0   \n",
       "273084    42.0          4.0  18608.0       NaN       3.0  2.0          0.0   \n",
       "193169    49.0          7.0   4213.0       NaN       NaN  2.0          0.0   \n",
       "144582    31.0          7.0  15300.0       2.0       6.0  2.0          0.0   \n",
       "327153   275.0         33.0      NaN       NaN       NaN  0.0          0.0   \n",
       "256611    47.0         16.0   3780.0       NaN       3.0  2.0          0.0   \n",
       "\n",
       "       transmission drive paint_color  state  type  \n",
       "428050          0.0   1.0         NaN   48.0   9.0  \n",
       "18887           0.0   NaN        10.0    2.0   7.0  \n",
       "186119          0.0   0.0         NaN   19.0   NaN  \n",
       "379234          0.0   2.0         5.0   43.0   0.0  \n",
       "64763           0.0   NaN         9.0    4.0   NaN  \n",
       "273084          0.0   2.0         8.0   34.0   2.0  \n",
       "193169          0.0   NaN         NaN   22.0   NaN  \n",
       "144582          0.0   0.0         9.0   15.0  10.0  \n",
       "327153          0.0   0.0         9.0   37.0   8.0  \n",
       "256611          0.0   1.0         8.0   31.0   9.0  "
      ]
     },
     "execution_count": 39,
     "metadata": {},
     "output_type": "execute_result"
    }
   ],
   "source": [
    "trans_df[cat_attr].head(10)"
   ]
  },
  {
   "cell_type": "code",
   "execution_count": 40,
   "metadata": {},
   "outputs": [
    {
     "data": {
      "text/html": [
       "<div>\n",
       "<style scoped>\n",
       "    .dataframe tbody tr th:only-of-type {\n",
       "        vertical-align: middle;\n",
       "    }\n",
       "\n",
       "    .dataframe tbody tr th {\n",
       "        vertical-align: top;\n",
       "    }\n",
       "\n",
       "    .dataframe thead th {\n",
       "        text-align: right;\n",
       "    }\n",
       "</style>\n",
       "<table border=\"1\" class=\"dataframe\">\n",
       "  <thead>\n",
       "    <tr style=\"text-align: right;\">\n",
       "      <th></th>\n",
       "      <th>year</th>\n",
       "      <th>odometer</th>\n",
       "      <th>lat</th>\n",
       "      <th>long</th>\n",
       "      <th>region</th>\n",
       "      <th>manufacturer</th>\n",
       "      <th>model</th>\n",
       "      <th>condition</th>\n",
       "      <th>cylinders</th>\n",
       "      <th>fuel</th>\n",
       "      <th>title_status</th>\n",
       "      <th>transmission</th>\n",
       "      <th>drive</th>\n",
       "      <th>paint_color</th>\n",
       "      <th>state</th>\n",
       "      <th>type</th>\n",
       "      <th>price</th>\n",
       "    </tr>\n",
       "  </thead>\n",
       "  <tbody>\n",
       "    <tr>\n",
       "      <th>428050</th>\n",
       "      <td>2003.0</td>\n",
       "      <td>134578.0</td>\n",
       "      <td>43.118800</td>\n",
       "      <td>-87.947800</td>\n",
       "      <td>169.0</td>\n",
       "      <td>16.0</td>\n",
       "      <td>3780.0</td>\n",
       "      <td>3.0</td>\n",
       "      <td>3.0</td>\n",
       "      <td>2.0</td>\n",
       "      <td>0.0</td>\n",
       "      <td>0.0</td>\n",
       "      <td>1.0</td>\n",
       "      <td>NaN</td>\n",
       "      <td>48.0</td>\n",
       "      <td>9.0</td>\n",
       "      <td>3999</td>\n",
       "    </tr>\n",
       "    <tr>\n",
       "      <th>18887</th>\n",
       "      <td>2017.0</td>\n",
       "      <td>51031.0</td>\n",
       "      <td>36.203482</td>\n",
       "      <td>-94.138862</td>\n",
       "      <td>105.0</td>\n",
       "      <td>13.0</td>\n",
       "      <td>18569.0</td>\n",
       "      <td>2.0</td>\n",
       "      <td>6.0</td>\n",
       "      <td>2.0</td>\n",
       "      <td>0.0</td>\n",
       "      <td>0.0</td>\n",
       "      <td>NaN</td>\n",
       "      <td>10.0</td>\n",
       "      <td>2.0</td>\n",
       "      <td>7.0</td>\n",
       "      <td>47995</td>\n",
       "    </tr>\n",
       "    <tr>\n",
       "      <th>186119</th>\n",
       "      <td>2011.0</td>\n",
       "      <td>156300.0</td>\n",
       "      <td>41.673575</td>\n",
       "      <td>-70.266194</td>\n",
       "      <td>44.0</td>\n",
       "      <td>30.0</td>\n",
       "      <td>13066.0</td>\n",
       "      <td>2.0</td>\n",
       "      <td>5.0</td>\n",
       "      <td>2.0</td>\n",
       "      <td>0.0</td>\n",
       "      <td>0.0</td>\n",
       "      <td>0.0</td>\n",
       "      <td>NaN</td>\n",
       "      <td>19.0</td>\n",
       "      <td>NaN</td>\n",
       "      <td>6499</td>\n",
       "    </tr>\n",
       "    <tr>\n",
       "      <th>379234</th>\n",
       "      <td>2006.0</td>\n",
       "      <td>119000.0</td>\n",
       "      <td>31.817096</td>\n",
       "      <td>-106.561892</td>\n",
       "      <td>96.0</td>\n",
       "      <td>30.0</td>\n",
       "      <td>18430.0</td>\n",
       "      <td>2.0</td>\n",
       "      <td>5.0</td>\n",
       "      <td>2.0</td>\n",
       "      <td>0.0</td>\n",
       "      <td>0.0</td>\n",
       "      <td>2.0</td>\n",
       "      <td>5.0</td>\n",
       "      <td>43.0</td>\n",
       "      <td>0.0</td>\n",
       "      <td>5600</td>\n",
       "    </tr>\n",
       "    <tr>\n",
       "      <th>64763</th>\n",
       "      <td>2014.0</td>\n",
       "      <td>84000.0</td>\n",
       "      <td>34.226200</td>\n",
       "      <td>-118.447000</td>\n",
       "      <td>374.0</td>\n",
       "      <td>30.0</td>\n",
       "      <td>17669.0</td>\n",
       "      <td>0.0</td>\n",
       "      <td>3.0</td>\n",
       "      <td>2.0</td>\n",
       "      <td>0.0</td>\n",
       "      <td>0.0</td>\n",
       "      <td>NaN</td>\n",
       "      <td>9.0</td>\n",
       "      <td>4.0</td>\n",
       "      <td>NaN</td>\n",
       "      <td>5995</td>\n",
       "    </tr>\n",
       "  </tbody>\n",
       "</table>\n",
       "</div>"
      ],
      "text/plain": [
       "          year  odometer        lat        long  region manufacturer    model  \\\n",
       "428050  2003.0  134578.0  43.118800  -87.947800   169.0         16.0   3780.0   \n",
       "18887   2017.0   51031.0  36.203482  -94.138862   105.0         13.0  18569.0   \n",
       "186119  2011.0  156300.0  41.673575  -70.266194    44.0         30.0  13066.0   \n",
       "379234  2006.0  119000.0  31.817096 -106.561892    96.0         30.0  18430.0   \n",
       "64763   2014.0   84000.0  34.226200 -118.447000   374.0         30.0  17669.0   \n",
       "\n",
       "       condition cylinders fuel title_status transmission drive paint_color  \\\n",
       "428050       3.0       3.0  2.0          0.0          0.0   1.0         NaN   \n",
       "18887        2.0       6.0  2.0          0.0          0.0   NaN        10.0   \n",
       "186119       2.0       5.0  2.0          0.0          0.0   0.0         NaN   \n",
       "379234       2.0       5.0  2.0          0.0          0.0   2.0         5.0   \n",
       "64763        0.0       3.0  2.0          0.0          0.0   NaN         9.0   \n",
       "\n",
       "        state type  price  \n",
       "428050   48.0  9.0   3999  \n",
       "18887     2.0  7.0  47995  \n",
       "186119   19.0  NaN   6499  \n",
       "379234   43.0  0.0   5600  \n",
       "64763     4.0  NaN   5995  "
      ]
     },
     "execution_count": 40,
     "metadata": {},
     "output_type": "execute_result"
    }
   ],
   "source": [
    "imp_cols = np.append(num_attr, cat_attr)\n",
    "imp_cols = np.append(imp_cols, [\"price\"])\n",
    "trans_df[imp_cols].head()"
   ]
  },
  {
   "cell_type": "code",
   "execution_count": 41,
   "metadata": {},
   "outputs": [],
   "source": [
    "df_imputer = trans_df[imp_cols]"
   ]
  },
  {
   "cell_type": "markdown",
   "metadata": {},
   "source": [
    "### Find good estimator to fill missing values for categorical features"
   ]
  },
  {
   "cell_type": "markdown",
   "metadata": {},
   "source": [
    "#### Simple Imputer"
   ]
  },
  {
   "cell_type": "code",
   "execution_count": 42,
   "metadata": {},
   "outputs": [],
   "source": [
    "score_simple_imputer = pd.DataFrame() #dataframe to store error of imputer\n",
    "#computing MSE for mean and median\n",
    "for strategy in ('mean', 'median'):\n",
    "    X=df_imputer.iloc[:,:-1]\n",
    "        #y=check_imputer.iloc[:,-1:].values.ravel()\n",
    "    y = np.ravel(df_imputer.iloc[:,-1:])\n",
    "    estimator = make_pipeline(\n",
    "                    SimpleImputer(missing_values=np.NaN, strategy=strategy),\n",
    "                    BayesianRidge()\n",
    "                )\n",
    "    \n",
    "    score_simple_imputer[strategy] = cross_val_score(estimator, \n",
    "                                                     X, \n",
    "                                                     y, \n",
    "                                                     scoring='neg_mean_squared_error',\n",
    "                                                     cv=None\n",
    "                                     )\n"
   ]
  },
  {
   "cell_type": "markdown",
   "metadata": {},
   "source": [
    "#### Iterative Imputers"
   ]
  },
  {
   "cell_type": "code",
   "execution_count": 43,
   "metadata": {},
   "outputs": [
    {
     "name": "stdout",
     "output_type": "stream",
     "text": [
      "Estimating BayesianRidge\n",
      "Estimating DecisionTreeRegressor\n",
      "Estimating ExtraTreesRegressor\n",
      "Estimating KNeighborsRegressor\n",
      "Estimating Lasso\n"
     ]
    }
   ],
   "source": [
    "# Estimate the score on the entire dataset by filling missing values by different iterative imputer\n",
    "#estimators for IterativeImputer\n",
    "estimators = [\n",
    "    BayesianRidge(),\n",
    "    DecisionTreeRegressor(max_features='sqrt', random_state=random_state),\n",
    "    ExtraTreesRegressor(n_estimators=10, random_state=random_state, n_jobs=15),\n",
    "    KNeighborsRegressor(n_neighbors=5, n_jobs=15),\n",
    "    #SGDRegressor(random_state=random_state),\n",
    "    Lasso(random_state=random_state)\n",
    "]\n",
    "score_iterative_imputer = pd.DataFrame()\n",
    "for esti in estimators:\n",
    "        print(\"Estimating\",esti.__class__.__name__)\n",
    "        imputer = IterativeImputer(esti, random_state=random_state)\n",
    "        df_new=df_imputer.copy()\n",
    "        for col in df_imputer.columns:\n",
    "            #col=check_imputer.columns[i]\n",
    "            impute_data=imputer.fit_transform(df_new[col].values.reshape(-1,1))\n",
    "            impute_data=impute_data.astype('int64')\n",
    "            impute_data = pd.DataFrame(np.ravel(impute_data))\n",
    "            df_new[col]=impute_data\n",
    "            \n",
    "        X=df_new.iloc[:,:-1]\n",
    "        y = np.ravel(df_imputer.iloc[:,-1:])\n",
    "        \n",
    "        # Time being added this, need to investigate why imputer is returing columns with NaN\n",
    "        X = X.fillna(X.median()).clip(-1e11,1e11)\n",
    "        score_iterative_imputer[esti.__class__.__name__] = cross_val_score(esti,X,y,scoring='neg_mean_squared_error')"
   ]
  },
  {
   "cell_type": "code",
   "execution_count": 44,
   "metadata": {},
   "outputs": [
    {
     "data": {
      "image/png": "[encoded data removed]",
      "text/plain": [
       "<Figure size 1440x576 with 1 Axes>"
      ]
     },
     "metadata": {},
     "output_type": "display_data"
    },
    {
     "name": "stdout",
     "output_type": "stream",
     "text": [
      "\n",
      "\n",
      "Method with Minimum Error ('SimpleImputer', 'median')\n"
     ]
    }
   ],
   "source": [
    "#ploting the graphs of scores each method\n",
    "scores = pd.concat(\n",
    "    [score_simple_imputer, score_iterative_imputer],\n",
    "    keys=['SimpleImputer', 'IterativeImputer'], axis=1\n",
    ")\n",
    "fig, ax =plt.subplots(1,figsize=(20, 8))\n",
    "means = -scores.mean()\n",
    "errors = scores.std()\n",
    "means.plot(kind=\"bar\", yerr=errors)\n",
    "plt.xticks(rotation=30)\n",
    "plt.title(\"MSE with Different Imputation Methods\")\n",
    "plt.show()\n",
    "\n",
    "print(\"\\n\\nMethod with Minimum Error\", errors.idxmin())\n",
    "name = errors.idxmin()"
   ]
  },
  {
   "cell_type": "markdown",
   "metadata": {},
   "source": [
    "### Select Estimator for filling missing values"
   ]
  },
  {
   "cell_type": "code",
   "execution_count": 45,
   "metadata": {},
   "outputs": [
    {
     "name": "stdout",
     "output_type": "stream",
     "text": [
      "ExtraTreesRegressor(n_estimators=10, n_jobs=15, random_state=17)\n"
     ]
    }
   ],
   "source": [
    "selected_est =  estimators[2]\n",
    "print(selected_est)    "
   ]
  },
  {
   "cell_type": "markdown",
   "metadata": {},
   "source": [
    "### Fill missing values Atrributes"
   ]
  },
  {
   "cell_type": "code",
   "execution_count": 46,
   "metadata": {},
   "outputs": [
    {
     "data": {
      "text/plain": [
       "year                0\n",
       "odometer            0\n",
       "lat              1807\n",
       "long             1807\n",
       "region              0\n",
       "manufacturer     5791\n",
       "model            1234\n",
       "condition       92712\n",
       "cylinders       82256\n",
       "fuel             1739\n",
       "title_status     1030\n",
       "transmission     1045\n",
       "drive           59744\n",
       "paint_color     58376\n",
       "state               0\n",
       "type            43129\n",
       "price               0\n",
       "dtype: int64"
      ]
     },
     "execution_count": 46,
     "metadata": {},
     "output_type": "execute_result"
    }
   ],
   "source": [
    "df_imputer.isnull().sum()"
   ]
  },
  {
   "cell_type": "code",
   "execution_count": 47,
   "metadata": {},
   "outputs": [
    {
     "data": {
      "text/html": [
       "<div>\n",
       "<style scoped>\n",
       "    .dataframe tbody tr th:only-of-type {\n",
       "        vertical-align: middle;\n",
       "    }\n",
       "\n",
       "    .dataframe tbody tr th {\n",
       "        vertical-align: top;\n",
       "    }\n",
       "\n",
       "    .dataframe thead th {\n",
       "        text-align: right;\n",
       "    }\n",
       "</style>\n",
       "<table border=\"1\" class=\"dataframe\">\n",
       "  <thead>\n",
       "    <tr style=\"text-align: right;\">\n",
       "      <th></th>\n",
       "      <th>year</th>\n",
       "      <th>odometer</th>\n",
       "      <th>lat</th>\n",
       "      <th>long</th>\n",
       "      <th>region</th>\n",
       "      <th>manufacturer</th>\n",
       "      <th>model</th>\n",
       "      <th>condition</th>\n",
       "      <th>cylinders</th>\n",
       "      <th>fuel</th>\n",
       "      <th>title_status</th>\n",
       "      <th>transmission</th>\n",
       "      <th>drive</th>\n",
       "      <th>paint_color</th>\n",
       "      <th>state</th>\n",
       "      <th>type</th>\n",
       "      <th>price</th>\n",
       "    </tr>\n",
       "  </thead>\n",
       "  <tbody>\n",
       "    <tr>\n",
       "      <th>428050</th>\n",
       "      <td>2003.0</td>\n",
       "      <td>134578.0</td>\n",
       "      <td>43.118800</td>\n",
       "      <td>-87.947800</td>\n",
       "      <td>169.0</td>\n",
       "      <td>16.0</td>\n",
       "      <td>3780.0</td>\n",
       "      <td>3.0</td>\n",
       "      <td>3.0</td>\n",
       "      <td>2.0</td>\n",
       "      <td>0.0</td>\n",
       "      <td>0.0</td>\n",
       "      <td>1.0</td>\n",
       "      <td>6.9</td>\n",
       "      <td>48.0</td>\n",
       "      <td>9.0</td>\n",
       "      <td>3999</td>\n",
       "    </tr>\n",
       "    <tr>\n",
       "      <th>18887</th>\n",
       "      <td>2017.0</td>\n",
       "      <td>51031.0</td>\n",
       "      <td>36.203482</td>\n",
       "      <td>-94.138862</td>\n",
       "      <td>105.0</td>\n",
       "      <td>13.0</td>\n",
       "      <td>18569.0</td>\n",
       "      <td>2.0</td>\n",
       "      <td>6.0</td>\n",
       "      <td>2.0</td>\n",
       "      <td>0.0</td>\n",
       "      <td>0.0</td>\n",
       "      <td>0.0</td>\n",
       "      <td>10.0</td>\n",
       "      <td>2.0</td>\n",
       "      <td>7.0</td>\n",
       "      <td>47995</td>\n",
       "    </tr>\n",
       "    <tr>\n",
       "      <th>186119</th>\n",
       "      <td>2011.0</td>\n",
       "      <td>156300.0</td>\n",
       "      <td>41.673575</td>\n",
       "      <td>-70.266194</td>\n",
       "      <td>44.0</td>\n",
       "      <td>30.0</td>\n",
       "      <td>13066.0</td>\n",
       "      <td>2.0</td>\n",
       "      <td>5.0</td>\n",
       "      <td>2.0</td>\n",
       "      <td>0.0</td>\n",
       "      <td>0.0</td>\n",
       "      <td>0.0</td>\n",
       "      <td>5.0</td>\n",
       "      <td>19.0</td>\n",
       "      <td>0.0</td>\n",
       "      <td>6499</td>\n",
       "    </tr>\n",
       "    <tr>\n",
       "      <th>379234</th>\n",
       "      <td>2006.0</td>\n",
       "      <td>119000.0</td>\n",
       "      <td>31.817096</td>\n",
       "      <td>-106.561892</td>\n",
       "      <td>96.0</td>\n",
       "      <td>30.0</td>\n",
       "      <td>18430.0</td>\n",
       "      <td>2.0</td>\n",
       "      <td>5.0</td>\n",
       "      <td>2.0</td>\n",
       "      <td>0.0</td>\n",
       "      <td>0.0</td>\n",
       "      <td>2.0</td>\n",
       "      <td>5.0</td>\n",
       "      <td>43.0</td>\n",
       "      <td>0.0</td>\n",
       "      <td>5600</td>\n",
       "    </tr>\n",
       "    <tr>\n",
       "      <th>64763</th>\n",
       "      <td>2014.0</td>\n",
       "      <td>84000.0</td>\n",
       "      <td>34.226200</td>\n",
       "      <td>-118.447000</td>\n",
       "      <td>374.0</td>\n",
       "      <td>30.0</td>\n",
       "      <td>17669.0</td>\n",
       "      <td>0.0</td>\n",
       "      <td>3.0</td>\n",
       "      <td>2.0</td>\n",
       "      <td>0.0</td>\n",
       "      <td>0.0</td>\n",
       "      <td>1.1</td>\n",
       "      <td>9.0</td>\n",
       "      <td>4.0</td>\n",
       "      <td>8.1</td>\n",
       "      <td>5995</td>\n",
       "    </tr>\n",
       "  </tbody>\n",
       "</table>\n",
       "</div>"
      ],
      "text/plain": [
       "          year  odometer        lat        long  region  manufacturer  \\\n",
       "428050  2003.0  134578.0  43.118800  -87.947800   169.0          16.0   \n",
       "18887   2017.0   51031.0  36.203482  -94.138862   105.0          13.0   \n",
       "186119  2011.0  156300.0  41.673575  -70.266194    44.0          30.0   \n",
       "379234  2006.0  119000.0  31.817096 -106.561892    96.0          30.0   \n",
       "64763   2014.0   84000.0  34.226200 -118.447000   374.0          30.0   \n",
       "\n",
       "          model  condition  cylinders  fuel  title_status  transmission  \\\n",
       "428050   3780.0        3.0        3.0   2.0           0.0           0.0   \n",
       "18887   18569.0        2.0        6.0   2.0           0.0           0.0   \n",
       "186119  13066.0        2.0        5.0   2.0           0.0           0.0   \n",
       "379234  18430.0        2.0        5.0   2.0           0.0           0.0   \n",
       "64763   17669.0        0.0        3.0   2.0           0.0           0.0   \n",
       "\n",
       "        drive  paint_color  state  type  price  \n",
       "428050    1.0          6.9   48.0   9.0   3999  \n",
       "18887     0.0         10.0    2.0   7.0  47995  \n",
       "186119    0.0          5.0   19.0   0.0   6499  \n",
       "379234    2.0          5.0   43.0   0.0   5600  \n",
       "64763     1.1          9.0    4.0   8.1   5995  "
      ]
     },
     "execution_count": 47,
     "metadata": {},
     "output_type": "execute_result"
    }
   ],
   "source": [
    "independent_vars = np.append(num_attr, cat_attr)\n",
    "imputer=IterativeImputer(selected_est) \n",
    "imputed_data=imputer.fit_transform(df_imputer[independent_vars], df_imputer[\"price\"])\n",
    "df_imputer[independent_vars]=imputed_data\n",
    "df_imputer.head()"
   ]
  },
  {
   "cell_type": "markdown",
   "metadata": {},
   "source": [
    "### Check if there are more missing values"
   ]
  },
  {
   "cell_type": "code",
   "execution_count": 48,
   "metadata": {},
   "outputs": [
    {
     "data": {
      "text/plain": [
       "year            0\n",
       "odometer        0\n",
       "lat             0\n",
       "long            0\n",
       "region          0\n",
       "manufacturer    0\n",
       "model           0\n",
       "condition       0\n",
       "cylinders       0\n",
       "fuel            0\n",
       "title_status    0\n",
       "transmission    0\n",
       "drive           0\n",
       "paint_color     0\n",
       "state           0\n",
       "type            0\n",
       "price           0\n",
       "dtype: int64"
      ]
     },
     "execution_count": 48,
     "metadata": {},
     "output_type": "execute_result"
    }
   ],
   "source": [
    "df_imputer.isnull().sum()"
   ]
  },
  {
   "cell_type": "markdown",
   "metadata": {},
   "source": [
    "### Add age column from model year and posting date"
   ]
  },
  {
   "cell_type": "code",
   "execution_count": 49,
   "metadata": {},
   "outputs": [],
   "source": [
    "class AddAgeColumn(BaseEstimator, TransformerMixin):\n",
    "    def __init__(self, year_col_idx, posting_date_idx): # no *args or **kargs\n",
    "        self.year_col_idx = year_col_idx\n",
    "        self.posting_date_idx = posting_date_idx\n",
    "        \n",
    "    def fit(self, X, y=None):\n",
    "        return self  # nothing else to do\n",
    "    def transform(self, X):\n",
    "        inp = X.values\n",
    "        year = (inp[:, self.year_col_idx] - 1).astype(int).astype(str)\n",
    "        manu_year=np.char.add(year, \"/09/30\")\n",
    "        manu_date = pd.Series(pd.to_datetime(manu_year, format=\"%Y/%m/%d\", utc=True))\n",
    "        ser = pd.Series(inp[:, self.posting_date_idx])\n",
    "        #print(ser.dtypes)\n",
    "        diff = pd.to_datetime(ser).subtract(manu_date)\n",
    "        #print(diff)\n",
    "        return np.c_[(diff/np.timedelta64(1, 'M'))]\n",
    "  "
   ]
  },
  {
   "cell_type": "code",
   "execution_count": 50,
   "metadata": {},
   "outputs": [],
   "source": [
    "attr_adder = AddAgeColumn(train_set.columns.get_loc(\"year\"), train_set.columns.get_loc(\"posting_date\"))\n",
    "age_col = attr_adder.transform(train_set)"
   ]
  },
  {
   "cell_type": "code",
   "execution_count": 51,
   "metadata": {},
   "outputs": [
    {
     "data": {
      "text/html": [
       "<div>\n",
       "<style scoped>\n",
       "    .dataframe tbody tr th:only-of-type {\n",
       "        vertical-align: middle;\n",
       "    }\n",
       "\n",
       "    .dataframe tbody tr th {\n",
       "        vertical-align: top;\n",
       "    }\n",
       "\n",
       "    .dataframe thead th {\n",
       "        text-align: right;\n",
       "    }\n",
       "</style>\n",
       "<table border=\"1\" class=\"dataframe\">\n",
       "  <thead>\n",
       "    <tr style=\"text-align: right;\">\n",
       "      <th></th>\n",
       "      <th>year</th>\n",
       "      <th>odometer</th>\n",
       "      <th>lat</th>\n",
       "      <th>long</th>\n",
       "      <th>region</th>\n",
       "      <th>manufacturer</th>\n",
       "      <th>model</th>\n",
       "      <th>condition</th>\n",
       "      <th>cylinders</th>\n",
       "      <th>fuel</th>\n",
       "      <th>title_status</th>\n",
       "      <th>transmission</th>\n",
       "      <th>drive</th>\n",
       "      <th>paint_color</th>\n",
       "      <th>state</th>\n",
       "      <th>type</th>\n",
       "      <th>price</th>\n",
       "      <th>age_in_months</th>\n",
       "    </tr>\n",
       "  </thead>\n",
       "  <tbody>\n",
       "    <tr>\n",
       "      <th>428050</th>\n",
       "      <td>2003.0</td>\n",
       "      <td>134578.0</td>\n",
       "      <td>43.118800</td>\n",
       "      <td>-87.947800</td>\n",
       "      <td>169.0</td>\n",
       "      <td>16.0</td>\n",
       "      <td>3780.0</td>\n",
       "      <td>3.0</td>\n",
       "      <td>3.0</td>\n",
       "      <td>2.0</td>\n",
       "      <td>0.0</td>\n",
       "      <td>0.0</td>\n",
       "      <td>1.0</td>\n",
       "      <td>6.9</td>\n",
       "      <td>48.0</td>\n",
       "      <td>9.0</td>\n",
       "      <td>3999</td>\n",
       "      <td>217.982963</td>\n",
       "    </tr>\n",
       "    <tr>\n",
       "      <th>18887</th>\n",
       "      <td>2017.0</td>\n",
       "      <td>51031.0</td>\n",
       "      <td>36.203482</td>\n",
       "      <td>-94.138862</td>\n",
       "      <td>105.0</td>\n",
       "      <td>13.0</td>\n",
       "      <td>18569.0</td>\n",
       "      <td>2.0</td>\n",
       "      <td>6.0</td>\n",
       "      <td>2.0</td>\n",
       "      <td>0.0</td>\n",
       "      <td>0.0</td>\n",
       "      <td>0.0</td>\n",
       "      <td>10.0</td>\n",
       "      <td>2.0</td>\n",
       "      <td>7.0</td>\n",
       "      <td>47995</td>\n",
       "      <td>49.240977</td>\n",
       "    </tr>\n",
       "    <tr>\n",
       "      <th>186119</th>\n",
       "      <td>2011.0</td>\n",
       "      <td>156300.0</td>\n",
       "      <td>41.673575</td>\n",
       "      <td>-70.266194</td>\n",
       "      <td>44.0</td>\n",
       "      <td>30.0</td>\n",
       "      <td>13066.0</td>\n",
       "      <td>2.0</td>\n",
       "      <td>5.0</td>\n",
       "      <td>2.0</td>\n",
       "      <td>0.0</td>\n",
       "      <td>0.0</td>\n",
       "      <td>0.0</td>\n",
       "      <td>5.0</td>\n",
       "      <td>19.0</td>\n",
       "      <td>0.0</td>\n",
       "      <td>6499</td>\n",
       "      <td>121.488248</td>\n",
       "    </tr>\n",
       "    <tr>\n",
       "      <th>379234</th>\n",
       "      <td>2006.0</td>\n",
       "      <td>119000.0</td>\n",
       "      <td>31.817096</td>\n",
       "      <td>-106.561892</td>\n",
       "      <td>96.0</td>\n",
       "      <td>30.0</td>\n",
       "      <td>18430.0</td>\n",
       "      <td>2.0</td>\n",
       "      <td>5.0</td>\n",
       "      <td>2.0</td>\n",
       "      <td>0.0</td>\n",
       "      <td>0.0</td>\n",
       "      <td>2.0</td>\n",
       "      <td>5.0</td>\n",
       "      <td>43.0</td>\n",
       "      <td>0.0</td>\n",
       "      <td>5600</td>\n",
       "      <td>182.046879</td>\n",
       "    </tr>\n",
       "    <tr>\n",
       "      <th>64763</th>\n",
       "      <td>2014.0</td>\n",
       "      <td>84000.0</td>\n",
       "      <td>34.226200</td>\n",
       "      <td>-118.447000</td>\n",
       "      <td>374.0</td>\n",
       "      <td>30.0</td>\n",
       "      <td>17669.0</td>\n",
       "      <td>0.0</td>\n",
       "      <td>3.0</td>\n",
       "      <td>2.0</td>\n",
       "      <td>0.0</td>\n",
       "      <td>0.0</td>\n",
       "      <td>1.1</td>\n",
       "      <td>9.0</td>\n",
       "      <td>4.0</td>\n",
       "      <td>8.1</td>\n",
       "      <td>5995</td>\n",
       "      <td>85.282226</td>\n",
       "    </tr>\n",
       "  </tbody>\n",
       "</table>\n",
       "</div>"
      ],
      "text/plain": [
       "          year  odometer        lat        long  region  manufacturer  \\\n",
       "428050  2003.0  134578.0  43.118800  -87.947800   169.0          16.0   \n",
       "18887   2017.0   51031.0  36.203482  -94.138862   105.0          13.0   \n",
       "186119  2011.0  156300.0  41.673575  -70.266194    44.0          30.0   \n",
       "379234  2006.0  119000.0  31.817096 -106.561892    96.0          30.0   \n",
       "64763   2014.0   84000.0  34.226200 -118.447000   374.0          30.0   \n",
       "\n",
       "          model  condition  cylinders  fuel  title_status  transmission  \\\n",
       "428050   3780.0        3.0        3.0   2.0           0.0           0.0   \n",
       "18887   18569.0        2.0        6.0   2.0           0.0           0.0   \n",
       "186119  13066.0        2.0        5.0   2.0           0.0           0.0   \n",
       "379234  18430.0        2.0        5.0   2.0           0.0           0.0   \n",
       "64763   17669.0        0.0        3.0   2.0           0.0           0.0   \n",
       "\n",
       "        drive  paint_color  state  type  price  age_in_months  \n",
       "428050    1.0          6.9   48.0   9.0   3999     217.982963  \n",
       "18887     0.0         10.0    2.0   7.0  47995      49.240977  \n",
       "186119    0.0          5.0   19.0   0.0   6499     121.488248  \n",
       "379234    2.0          5.0   43.0   0.0   5600     182.046879  \n",
       "64763     1.1          9.0    4.0   8.1   5995      85.282226  "
      ]
     },
     "execution_count": 51,
     "metadata": {},
     "output_type": "execute_result"
    }
   ],
   "source": [
    "df_imputer[\"age_in_months\"] = age_col\n",
    "df_imputer.head()"
   ]
  },
  {
   "cell_type": "markdown",
   "metadata": {},
   "source": [
    "### distribution plot for age in months"
   ]
  },
  {
   "cell_type": "code",
   "execution_count": 52,
   "metadata": {},
   "outputs": [
    {
     "data": {
      "image/png": "[encoded data removed]",
      "text/plain": [
       "<Figure size 1152x576 with 1 Axes>"
      ]
     },
     "metadata": {},
     "output_type": "display_data"
    }
   ],
   "source": [
    "sns.displot(x=df_imputer.age_in_months.astype(int), kde=True, rug=True, height=8, bins=50, aspect=2 )\n",
    "plt.show()"
   ]
  },
  {
   "cell_type": "markdown",
   "metadata": {},
   "source": [
    "### Drop column posting date"
   ]
  },
  {
   "cell_type": "code",
   "execution_count": 53,
   "metadata": {},
   "outputs": [],
   "source": [
    "class DropColumns(BaseEstimator, TransformerMixin):\n",
    "    def __init__(self, attribute_name):\n",
    "        self.attribute_name = attribute_name\n",
    "    def fit(self, X, y=None):\n",
    "        return self\n",
    "    def transform(self, X):\n",
    "        return  X[[b for b in list(X.columns) if b != self.attribute_name]]\n",
    "        return X[self.attribute_names].values\n",
    "#drop_col = DropColumns(\"posting_date\")\n",
    "#df_sel = pd.DataFrame( drop_col.transform(df_sel))"
   ]
  },
  {
   "cell_type": "markdown",
   "metadata": {},
   "source": [
    "### Columns Selector"
   ]
  },
  {
   "cell_type": "code",
   "execution_count": 54,
   "metadata": {},
   "outputs": [],
   "source": [
    "class ColumnSelector(BaseEstimator, TransformerMixin):\n",
    "    def __init__(self, attribute_names):\n",
    "        self.attribute_names = attribute_names\n",
    "    def fit(self, X, y=None):\n",
    "        return self\n",
    "    def transform(self, X):\n",
    "        return X[self.attribute_names]\n",
    "num_sel = ColumnSelector(num_attr)\n",
    "#df_num_attrs = num_sel.transform(df_sel)"
   ]
  },
  {
   "cell_type": "code",
   "execution_count": 55,
   "metadata": {},
   "outputs": [],
   "source": [
    "class Imputer(BaseEstimator, TransformerMixin):\n",
    "    def __init__(self, est, independent_vars, target_var):\n",
    "        self.est = est\n",
    "        self.independent_vars = independent_vars\n",
    "        self.target_var = target_var\n",
    "    def fit(self, X, y=None):\n",
    "        self.imputer = IterativeImputer(self.est) \n",
    "        self.imputer.fit(X[self.independent_vars], X[self.target_var])\n",
    "        return self\n",
    "    def transform(self, X):\n",
    "        df_imp = X.copy()\n",
    "        imputed_data = self.imputer.transform(X[self.independent_vars])\n",
    "        df_imp[self.independent_vars]=imputed_data\n",
    "        return df_imp\n"
   ]
  },
  {
   "cell_type": "markdown",
   "metadata": {},
   "source": [
    "### Pipeline"
   ]
  },
  {
   "cell_type": "code",
   "execution_count": 56,
   "metadata": {},
   "outputs": [],
   "source": [
    "outlier_removal = Pipeline([('outlier-removal', OutlierExtraction({\"price\":[2_000, 60_000], \"year\":[1990, 2021],\"odometer\":[0, 170_000]}))])\n",
    "\n",
    "standard_scaler = StandardScaler()\n",
    "\n",
    "pipeline_existing_cols = Pipeline([('replace-blank-with_NaN', ReplaceBlankValues()),\n",
    "                                ('label-encoding',MyLabelEncoder(cat_attr)),# MyLabelEncoder(cat_attr)),\n",
    "                                ('imputer', Imputer(selected_est, independent_vars, \"price\")),\n",
    "                                ('column-selector', ColumnSelector(independent_vars)),\n",
    "                                ])\n",
    "pipeline_add_age = Pipeline([\n",
    "                             ('add-age', AddAgeColumn(train_set_copy.columns.get_loc(\"year\"), train_set_copy.columns.get_loc(\"posting_date\")))\n",
    "                            ])\n",
    "\n",
    "feature_union = FeatureUnion(transformer_list=[\n",
    "        (\"existing_column\", pipeline_existing_cols),\n",
    "        (\"added_cols\", pipeline_add_age)\n",
    "    ])\n",
    "\n",
    "full_pipeline = Pipeline([(\"outlier_removal\", outlier_removal),\n",
    "                           (\"transformation\", feature_union),\n",
    "                           (\"scaling\", StandardScaler()) \n",
    "                           ], verbose=True)\n",
    "\n",
    "target_col_pipeline = Pipeline([(\"outlier_removal\", outlier_removal),\n",
    "                           (\"column-selector\", ColumnSelector(['price']))], verbose=True)"
   ]
  },
  {
   "cell_type": "code",
   "execution_count": 57,
   "metadata": {},
   "outputs": [
    {
     "name": "stdout",
     "output_type": "stream",
     "text": [
      "[Pipeline] ... (step 1 of 3) Processing outlier_removal, total=   0.3s\n",
      "[Pipeline] .... (step 2 of 3) Processing transformation, total= 2.5min\n",
      "[Pipeline] ........... (step 3 of 3) Processing scaling, total=   0.0s\n"
     ]
    },
    {
     "data": {
      "text/plain": [
       "(244394, 17)"
      ]
     },
     "execution_count": 57,
     "metadata": {},
     "output_type": "execute_result"
    }
   ],
   "source": [
    "train_copy_df = train_set_copy.copy()\n",
    "train_X = full_pipeline.fit_transform(train_copy_df)\n",
    "train_X.shape"
   ]
  },
  {
   "cell_type": "code",
   "execution_count": 58,
   "metadata": {},
   "outputs": [
    {
     "name": "stdout",
     "output_type": "stream",
     "text": [
      "[Pipeline] ... (step 1 of 2) Processing outlier_removal, total=   0.6s\n",
      "[Pipeline] ... (step 2 of 2) Processing column-selector, total=   0.0s\n"
     ]
    },
    {
     "data": {
      "text/plain": [
       "(244394, 1)"
      ]
     },
     "execution_count": 58,
     "metadata": {},
     "output_type": "execute_result"
    }
   ],
   "source": [
    "train_Y = target_col_pipeline.fit_transform(train_copy_df)\n",
    "train_Y.shape"
   ]
  },
  {
   "cell_type": "code",
   "execution_count": 59,
   "metadata": {},
   "outputs": [],
   "source": [
    "test_df = test_set.copy()\n",
    "test_X = full_pipeline.transform(test_df)\n",
    "test_Y = target_col_pipeline.transform(test_df)"
   ]
  },
  {
   "cell_type": "code",
   "execution_count": 60,
   "metadata": {},
   "outputs": [],
   "source": [
    "cols = np.append(independent_vars, \"age_in_months\")\n",
    "df = pd.DataFrame(train_X, columns=cols)\n",
    "df.to_csv(\"train_X.csv\", index=True)"
   ]
  },
  {
   "cell_type": "code",
   "execution_count": 61,
   "metadata": {},
   "outputs": [],
   "source": [
    "cols = [\"price\"]\n",
    "df = pd.DataFrame(train_Y, columns=cols)\n",
    "df.to_csv(\"train_Y.csv\", index=True)"
   ]
  },
  {
   "cell_type": "code",
   "execution_count": 62,
   "metadata": {},
   "outputs": [],
   "source": [
    "cols = np.append(independent_vars, \"age_in_months\")\n",
    "df = pd.DataFrame(test_X, columns=cols)\n",
    "df.to_csv(\"test_X.csv\", index=True)"
   ]
  },
  {
   "cell_type": "code",
   "execution_count": 63,
   "metadata": {},
   "outputs": [],
   "source": [
    "cols = [\"price\"]\n",
    "df = pd.DataFrame(test_Y, columns=cols)\n",
    "df.to_csv(\"test_Y.csv\", index=True)"
   ]
  }
 ],
 "metadata": {
  "kernelspec": {
   "display_name": "Python 3",
   "language": "python",
   "name": "python3"
  },
  "language_info": {
   "codemirror_mode": {
    "name": "ipython",
    "version": 3
   },
   "file_extension": ".py",
   "mimetype": "text/x-python",
   "name": "python",
   "nbconvert_exporter": "python",
   "pygments_lexer": "ipython3",
   "version": "3.8.5"
  }
 },
 "nbformat": 4,
 "nbformat_minor": 4
}
