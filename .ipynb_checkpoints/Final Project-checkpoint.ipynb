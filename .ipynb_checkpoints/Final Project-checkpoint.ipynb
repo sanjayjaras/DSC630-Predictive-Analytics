{
 "cells": [
  {
   "cell_type": "markdown",
   "metadata": {
    "pycharm": {
     "name": "#%% md\n"
    }
   },
   "source": [
    "# Final Project: Used Car Price Predictor\n",
    "### Author: Satish Agrawal, Sanjay Jaras"
   ]
  },
  {
   "cell_type": "markdown",
   "metadata": {
    "pycharm": {
     "name": "#%% md\n"
    }
   },
   "source": [
    "## Import Libraries"
   ]
  },
  {
   "cell_type": "code",
   "execution_count": 1,
   "metadata": {},
   "outputs": [],
   "source": [
    "import pandas as pd\n",
    "import numpy as np\n",
    "import matplotlib.pyplot as plt\n",
    "import types\n",
    "import seaborn as sns\n",
    "\n",
    "from sklearn.preprocessing import LabelEncoder\n",
    "from sklearn.linear_model import BayesianRidge\n",
    "from sklearn.pipeline import make_pipeline\n",
    "from sklearn.impute import SimpleImputer\n",
    "from sklearn.model_selection import cross_val_score\n",
    "from sklearn.experimental import enable_iterative_imputer\n",
    "from sklearn.impute import IterativeImputer\n",
    "from sklearn.ensemble import ExtraTreesRegressor\n",
    "from sklearn.linear_model import BayesianRidge\n",
    "from sklearn.tree import DecisionTreeRegressor\n",
    "from sklearn.neighbors import KNeighborsRegressor\n",
    "from sklearn.linear_model import SGDRegressor\n",
    "from sklearn.linear_model import Lasso"
   ]
  },
  {
   "cell_type": "markdown",
   "metadata": {
    "pycharm": {
     "name": "#%% md\n"
    }
   },
   "source": [
    "## Configurations\n"
   ]
  },
  {
   "cell_type": "code",
   "execution_count": 2,
   "metadata": {
    "collapsed": false,
    "jupyter": {
     "outputs_hidden": false
    },
    "pycharm": {
     "name": "#%%\n"
    }
   },
   "outputs": [],
   "source": [
    "%matplotlib inline\n",
    "plt.style.use(\"seaborn-darkgrid\")\n",
    "random_state = 17\n",
    "np.random.seed(random_state)"
   ]
  },
  {
   "cell_type": "markdown",
   "metadata": {
    "pycharm": {
     "name": "#%% md\n"
    }
   },
   "source": [
    "## Load Data\n",
    "Data downloaded from https://www.kaggle.com/austinreese/craigslist-carstrucks-data\n"
   ]
  },
  {
   "cell_type": "code",
   "execution_count": 3,
   "metadata": {
    "collapsed": false,
    "jupyter": {
     "outputs_hidden": false
    },
    "pycharm": {
     "name": "#%%\n"
    }
   },
   "outputs": [],
   "source": [
    "org_df = pd.read_csv(\"vehicles.csv\", index_col=[0], converters={\"cylinders\":str})"
   ]
  },
  {
   "cell_type": "markdown",
   "metadata": {
    "pycharm": {
     "name": "#%% md\n"
    }
   },
   "source": [
    "### Show summary"
   ]
  },
  {
   "cell_type": "code",
   "execution_count": 4,
   "metadata": {
    "collapsed": false,
    "jupyter": {
     "outputs_hidden": false
    },
    "pycharm": {
     "name": "#%%\n"
    }
   },
   "outputs": [
    {
     "data": {
      "text/html": [
       "<div>\n",
       "<style scoped>\n",
       "    .dataframe tbody tr th:only-of-type {\n",
       "        vertical-align: middle;\n",
       "    }\n",
       "\n",
       "    .dataframe tbody tr th {\n",
       "        vertical-align: top;\n",
       "    }\n",
       "\n",
       "    .dataframe thead th {\n",
       "        text-align: right;\n",
       "    }\n",
       "</style>\n",
       "<table border=\"1\" class=\"dataframe\">\n",
       "  <thead>\n",
       "    <tr style=\"text-align: right;\">\n",
       "      <th></th>\n",
       "      <th>id</th>\n",
       "      <th>url</th>\n",
       "      <th>region</th>\n",
       "      <th>region_url</th>\n",
       "      <th>price</th>\n",
       "      <th>year</th>\n",
       "      <th>manufacturer</th>\n",
       "      <th>model</th>\n",
       "      <th>condition</th>\n",
       "      <th>cylinders</th>\n",
       "      <th>...</th>\n",
       "      <th>drive</th>\n",
       "      <th>size</th>\n",
       "      <th>type</th>\n",
       "      <th>paint_color</th>\n",
       "      <th>image_url</th>\n",
       "      <th>description</th>\n",
       "      <th>state</th>\n",
       "      <th>lat</th>\n",
       "      <th>long</th>\n",
       "      <th>posting_date</th>\n",
       "    </tr>\n",
       "  </thead>\n",
       "  <tbody>\n",
       "    <tr>\n",
       "      <th>0</th>\n",
       "      <td>7240372487</td>\n",
       "      <td>https://auburn.craigslist.org/ctd/d/auburn-uni...</td>\n",
       "      <td>auburn</td>\n",
       "      <td>https://auburn.craigslist.org</td>\n",
       "      <td>35990</td>\n",
       "      <td>2010.0</td>\n",
       "      <td>chevrolet</td>\n",
       "      <td>corvette grand sport</td>\n",
       "      <td>good</td>\n",
       "      <td>8 cylinders</td>\n",
       "      <td>...</td>\n",
       "      <td>rwd</td>\n",
       "      <td>NaN</td>\n",
       "      <td>other</td>\n",
       "      <td>NaN</td>\n",
       "      <td>https://images.craigslist.org/00N0N_ipkbHVZYf4...</td>\n",
       "      <td>Carvana is the safer way to buy a car During t...</td>\n",
       "      <td>al</td>\n",
       "      <td>32.590000</td>\n",
       "      <td>-85.480000</td>\n",
       "      <td>2020-12-02T08:11:30-0600</td>\n",
       "    </tr>\n",
       "    <tr>\n",
       "      <th>1</th>\n",
       "      <td>7240309422</td>\n",
       "      <td>https://auburn.craigslist.org/cto/d/auburn-201...</td>\n",
       "      <td>auburn</td>\n",
       "      <td>https://auburn.craigslist.org</td>\n",
       "      <td>7500</td>\n",
       "      <td>2014.0</td>\n",
       "      <td>hyundai</td>\n",
       "      <td>sonata</td>\n",
       "      <td>excellent</td>\n",
       "      <td>4 cylinders</td>\n",
       "      <td>...</td>\n",
       "      <td>fwd</td>\n",
       "      <td>NaN</td>\n",
       "      <td>sedan</td>\n",
       "      <td>NaN</td>\n",
       "      <td>https://images.craigslist.org/00s0s_gBHYmJ5o7y...</td>\n",
       "      <td>I'll move to another city and try to sell my c...</td>\n",
       "      <td>al</td>\n",
       "      <td>32.547500</td>\n",
       "      <td>-85.468200</td>\n",
       "      <td>2020-12-02T02:11:50-0600</td>\n",
       "    </tr>\n",
       "    <tr>\n",
       "      <th>2</th>\n",
       "      <td>7240224296</td>\n",
       "      <td>https://auburn.craigslist.org/cto/d/auburn-200...</td>\n",
       "      <td>auburn</td>\n",
       "      <td>https://auburn.craigslist.org</td>\n",
       "      <td>4900</td>\n",
       "      <td>2006.0</td>\n",
       "      <td>bmw</td>\n",
       "      <td>x3 3.0i</td>\n",
       "      <td>good</td>\n",
       "      <td>6 cylinders</td>\n",
       "      <td>...</td>\n",
       "      <td>NaN</td>\n",
       "      <td>NaN</td>\n",
       "      <td>SUV</td>\n",
       "      <td>blue</td>\n",
       "      <td>https://images.craigslist.org/00B0B_5zgEGWPOrt...</td>\n",
       "      <td>Clean 2006 BMW X3 3.0I.  Beautiful and rare Bl...</td>\n",
       "      <td>al</td>\n",
       "      <td>32.616807</td>\n",
       "      <td>-85.464149</td>\n",
       "      <td>2020-12-01T19:50:41-0600</td>\n",
       "    </tr>\n",
       "    <tr>\n",
       "      <th>3</th>\n",
       "      <td>7240103965</td>\n",
       "      <td>https://auburn.craigslist.org/cto/d/lanett-tru...</td>\n",
       "      <td>auburn</td>\n",
       "      <td>https://auburn.craigslist.org</td>\n",
       "      <td>2000</td>\n",
       "      <td>1974.0</td>\n",
       "      <td>chevrolet</td>\n",
       "      <td>c-10</td>\n",
       "      <td>good</td>\n",
       "      <td>4 cylinders</td>\n",
       "      <td>...</td>\n",
       "      <td>rwd</td>\n",
       "      <td>full-size</td>\n",
       "      <td>pickup</td>\n",
       "      <td>blue</td>\n",
       "      <td>https://images.craigslist.org/00M0M_6o7KcDpArw...</td>\n",
       "      <td>1974 chev. truck (LONG BED) NEW starter front ...</td>\n",
       "      <td>al</td>\n",
       "      <td>32.861600</td>\n",
       "      <td>-85.216100</td>\n",
       "      <td>2020-12-01T15:54:45-0600</td>\n",
       "    </tr>\n",
       "    <tr>\n",
       "      <th>4</th>\n",
       "      <td>7239983776</td>\n",
       "      <td>https://auburn.craigslist.org/cto/d/auburn-200...</td>\n",
       "      <td>auburn</td>\n",
       "      <td>https://auburn.craigslist.org</td>\n",
       "      <td>19500</td>\n",
       "      <td>2005.0</td>\n",
       "      <td>ford</td>\n",
       "      <td>f350 lariat</td>\n",
       "      <td>excellent</td>\n",
       "      <td>8 cylinders</td>\n",
       "      <td>...</td>\n",
       "      <td>4wd</td>\n",
       "      <td>full-size</td>\n",
       "      <td>pickup</td>\n",
       "      <td>blue</td>\n",
       "      <td>https://images.craigslist.org/00p0p_b95l1EgUfl...</td>\n",
       "      <td>2005 Ford F350 Lariat (Bullet Proofed). This t...</td>\n",
       "      <td>al</td>\n",
       "      <td>32.547500</td>\n",
       "      <td>-85.468200</td>\n",
       "      <td>2020-12-01T12:53:56-0600</td>\n",
       "    </tr>\n",
       "  </tbody>\n",
       "</table>\n",
       "<p>5 rows × 25 columns</p>\n",
       "</div>"
      ],
      "text/plain": [
       "           id                                                url  region  \\\n",
       "0  7240372487  https://auburn.craigslist.org/ctd/d/auburn-uni...  auburn   \n",
       "1  7240309422  https://auburn.craigslist.org/cto/d/auburn-201...  auburn   \n",
       "2  7240224296  https://auburn.craigslist.org/cto/d/auburn-200...  auburn   \n",
       "3  7240103965  https://auburn.craigslist.org/cto/d/lanett-tru...  auburn   \n",
       "4  7239983776  https://auburn.craigslist.org/cto/d/auburn-200...  auburn   \n",
       "\n",
       "                      region_url  price    year manufacturer  \\\n",
       "0  https://auburn.craigslist.org  35990  2010.0    chevrolet   \n",
       "1  https://auburn.craigslist.org   7500  2014.0      hyundai   \n",
       "2  https://auburn.craigslist.org   4900  2006.0          bmw   \n",
       "3  https://auburn.craigslist.org   2000  1974.0    chevrolet   \n",
       "4  https://auburn.craigslist.org  19500  2005.0         ford   \n",
       "\n",
       "                  model  condition    cylinders  ... drive       size    type  \\\n",
       "0  corvette grand sport       good  8 cylinders  ...   rwd        NaN   other   \n",
       "1                sonata  excellent  4 cylinders  ...   fwd        NaN   sedan   \n",
       "2               x3 3.0i       good  6 cylinders  ...   NaN        NaN     SUV   \n",
       "3                  c-10       good  4 cylinders  ...   rwd  full-size  pickup   \n",
       "4           f350 lariat  excellent  8 cylinders  ...   4wd  full-size  pickup   \n",
       "\n",
       "  paint_color                                          image_url  \\\n",
       "0         NaN  https://images.craigslist.org/00N0N_ipkbHVZYf4...   \n",
       "1         NaN  https://images.craigslist.org/00s0s_gBHYmJ5o7y...   \n",
       "2        blue  https://images.craigslist.org/00B0B_5zgEGWPOrt...   \n",
       "3        blue  https://images.craigslist.org/00M0M_6o7KcDpArw...   \n",
       "4        blue  https://images.craigslist.org/00p0p_b95l1EgUfl...   \n",
       "\n",
       "                                         description state        lat  \\\n",
       "0  Carvana is the safer way to buy a car During t...    al  32.590000   \n",
       "1  I'll move to another city and try to sell my c...    al  32.547500   \n",
       "2  Clean 2006 BMW X3 3.0I.  Beautiful and rare Bl...    al  32.616807   \n",
       "3  1974 chev. truck (LONG BED) NEW starter front ...    al  32.861600   \n",
       "4  2005 Ford F350 Lariat (Bullet Proofed). This t...    al  32.547500   \n",
       "\n",
       "        long              posting_date  \n",
       "0 -85.480000  2020-12-02T08:11:30-0600  \n",
       "1 -85.468200  2020-12-02T02:11:50-0600  \n",
       "2 -85.464149  2020-12-01T19:50:41-0600  \n",
       "3 -85.216100  2020-12-01T15:54:45-0600  \n",
       "4 -85.468200  2020-12-01T12:53:56-0600  \n",
       "\n",
       "[5 rows x 25 columns]"
      ]
     },
     "execution_count": 4,
     "metadata": {},
     "output_type": "execute_result"
    }
   ],
   "source": [
    "org_df.head()"
   ]
  },
  {
   "cell_type": "markdown",
   "metadata": {
    "pycharm": {
     "name": "#%% md\n"
    }
   },
   "source": [
    "### Show Original Data types"
   ]
  },
  {
   "cell_type": "code",
   "execution_count": 5,
   "metadata": {
    "collapsed": false,
    "jupyter": {
     "outputs_hidden": false
    },
    "pycharm": {
     "name": "#%%\n"
    }
   },
   "outputs": [
    {
     "data": {
      "text/plain": [
       "id                int64\n",
       "url              object\n",
       "region           object\n",
       "region_url       object\n",
       "price             int64\n",
       "year            float64\n",
       "manufacturer     object\n",
       "model            object\n",
       "condition        object\n",
       "cylinders        object\n",
       "fuel             object\n",
       "odometer        float64\n",
       "title_status     object\n",
       "transmission     object\n",
       "VIN              object\n",
       "drive            object\n",
       "size             object\n",
       "type             object\n",
       "paint_color      object\n",
       "image_url        object\n",
       "description      object\n",
       "state            object\n",
       "lat             float64\n",
       "long            float64\n",
       "posting_date     object\n",
       "dtype: object"
      ]
     },
     "execution_count": 5,
     "metadata": {},
     "output_type": "execute_result"
    }
   ],
   "source": [
    "org_df.dtypes"
   ]
  },
  {
   "cell_type": "markdown",
   "metadata": {},
   "source": [
    "### Let's drop column that we will not be using"
   ]
  },
  {
   "cell_type": "code",
   "execution_count": 6,
   "metadata": {},
   "outputs": [],
   "source": [
    "#columns = [\"region\", \"price\", \"year\", \"manufacturer\", \"model\", \"condition\", \"cylinders\", \"fuel\", \"odometer\", \"title_status\", \"transmission\", \n",
    "#           \"drive\", \"size\", \"type\", \"paint_color\", \"state\", \"lat\", \"long\", \"posting_date\"]\n",
    "#df_sel = org_df[columns]\n",
    "\n",
    "\n",
    "### Consider dropping columns instead of subsetting for better clarity\n",
    "df_sel = org_df.drop(columns=['url', 'id','image_url', 'description', 'region_url', 'VIN'])\n",
    "\n",
    "# drop NA in important columns\n",
    "#df_sel = org_df.dropna(subset=['year','condition','model','manufacturer'])"
   ]
  },
  {
   "cell_type": "markdown",
   "metadata": {},
   "source": [
    "### Rename size column name to avoid keyword issue"
   ]
  },
  {
   "cell_type": "code",
   "execution_count": 7,
   "metadata": {},
   "outputs": [],
   "source": [
    "df_sel.rename(columns={\"size\":\"size_\"}, inplace=True)"
   ]
  },
  {
   "cell_type": "code",
   "execution_count": 8,
   "metadata": {},
   "outputs": [
    {
     "data": {
      "text/html": [
       "<div>\n",
       "<style scoped>\n",
       "    .dataframe tbody tr th:only-of-type {\n",
       "        vertical-align: middle;\n",
       "    }\n",
       "\n",
       "    .dataframe tbody tr th {\n",
       "        vertical-align: top;\n",
       "    }\n",
       "\n",
       "    .dataframe thead th {\n",
       "        text-align: right;\n",
       "    }\n",
       "</style>\n",
       "<table border=\"1\" class=\"dataframe\">\n",
       "  <thead>\n",
       "    <tr style=\"text-align: right;\">\n",
       "      <th></th>\n",
       "      <th>region</th>\n",
       "      <th>price</th>\n",
       "      <th>year</th>\n",
       "      <th>manufacturer</th>\n",
       "      <th>model</th>\n",
       "      <th>condition</th>\n",
       "      <th>cylinders</th>\n",
       "      <th>fuel</th>\n",
       "      <th>odometer</th>\n",
       "      <th>title_status</th>\n",
       "      <th>transmission</th>\n",
       "      <th>drive</th>\n",
       "      <th>size_</th>\n",
       "      <th>type</th>\n",
       "      <th>paint_color</th>\n",
       "      <th>state</th>\n",
       "      <th>lat</th>\n",
       "      <th>long</th>\n",
       "      <th>posting_date</th>\n",
       "    </tr>\n",
       "  </thead>\n",
       "  <tbody>\n",
       "    <tr>\n",
       "      <th>0</th>\n",
       "      <td>auburn</td>\n",
       "      <td>35990</td>\n",
       "      <td>2010.0</td>\n",
       "      <td>chevrolet</td>\n",
       "      <td>corvette grand sport</td>\n",
       "      <td>good</td>\n",
       "      <td>8 cylinders</td>\n",
       "      <td>gas</td>\n",
       "      <td>32742.0</td>\n",
       "      <td>clean</td>\n",
       "      <td>other</td>\n",
       "      <td>rwd</td>\n",
       "      <td>NaN</td>\n",
       "      <td>other</td>\n",
       "      <td>NaN</td>\n",
       "      <td>al</td>\n",
       "      <td>32.590000</td>\n",
       "      <td>-85.480000</td>\n",
       "      <td>2020-12-02T08:11:30-0600</td>\n",
       "    </tr>\n",
       "    <tr>\n",
       "      <th>1</th>\n",
       "      <td>auburn</td>\n",
       "      <td>7500</td>\n",
       "      <td>2014.0</td>\n",
       "      <td>hyundai</td>\n",
       "      <td>sonata</td>\n",
       "      <td>excellent</td>\n",
       "      <td>4 cylinders</td>\n",
       "      <td>gas</td>\n",
       "      <td>93600.0</td>\n",
       "      <td>clean</td>\n",
       "      <td>automatic</td>\n",
       "      <td>fwd</td>\n",
       "      <td>NaN</td>\n",
       "      <td>sedan</td>\n",
       "      <td>NaN</td>\n",
       "      <td>al</td>\n",
       "      <td>32.547500</td>\n",
       "      <td>-85.468200</td>\n",
       "      <td>2020-12-02T02:11:50-0600</td>\n",
       "    </tr>\n",
       "    <tr>\n",
       "      <th>2</th>\n",
       "      <td>auburn</td>\n",
       "      <td>4900</td>\n",
       "      <td>2006.0</td>\n",
       "      <td>bmw</td>\n",
       "      <td>x3 3.0i</td>\n",
       "      <td>good</td>\n",
       "      <td>6 cylinders</td>\n",
       "      <td>gas</td>\n",
       "      <td>87046.0</td>\n",
       "      <td>clean</td>\n",
       "      <td>automatic</td>\n",
       "      <td>NaN</td>\n",
       "      <td>NaN</td>\n",
       "      <td>SUV</td>\n",
       "      <td>blue</td>\n",
       "      <td>al</td>\n",
       "      <td>32.616807</td>\n",
       "      <td>-85.464149</td>\n",
       "      <td>2020-12-01T19:50:41-0600</td>\n",
       "    </tr>\n",
       "    <tr>\n",
       "      <th>3</th>\n",
       "      <td>auburn</td>\n",
       "      <td>2000</td>\n",
       "      <td>1974.0</td>\n",
       "      <td>chevrolet</td>\n",
       "      <td>c-10</td>\n",
       "      <td>good</td>\n",
       "      <td>4 cylinders</td>\n",
       "      <td>gas</td>\n",
       "      <td>190000.0</td>\n",
       "      <td>clean</td>\n",
       "      <td>automatic</td>\n",
       "      <td>rwd</td>\n",
       "      <td>full-size</td>\n",
       "      <td>pickup</td>\n",
       "      <td>blue</td>\n",
       "      <td>al</td>\n",
       "      <td>32.861600</td>\n",
       "      <td>-85.216100</td>\n",
       "      <td>2020-12-01T15:54:45-0600</td>\n",
       "    </tr>\n",
       "    <tr>\n",
       "      <th>4</th>\n",
       "      <td>auburn</td>\n",
       "      <td>19500</td>\n",
       "      <td>2005.0</td>\n",
       "      <td>ford</td>\n",
       "      <td>f350 lariat</td>\n",
       "      <td>excellent</td>\n",
       "      <td>8 cylinders</td>\n",
       "      <td>diesel</td>\n",
       "      <td>116000.0</td>\n",
       "      <td>lien</td>\n",
       "      <td>automatic</td>\n",
       "      <td>4wd</td>\n",
       "      <td>full-size</td>\n",
       "      <td>pickup</td>\n",
       "      <td>blue</td>\n",
       "      <td>al</td>\n",
       "      <td>32.547500</td>\n",
       "      <td>-85.468200</td>\n",
       "      <td>2020-12-01T12:53:56-0600</td>\n",
       "    </tr>\n",
       "  </tbody>\n",
       "</table>\n",
       "</div>"
      ],
      "text/plain": [
       "   region  price    year manufacturer                 model  condition  \\\n",
       "0  auburn  35990  2010.0    chevrolet  corvette grand sport       good   \n",
       "1  auburn   7500  2014.0      hyundai                sonata  excellent   \n",
       "2  auburn   4900  2006.0          bmw               x3 3.0i       good   \n",
       "3  auburn   2000  1974.0    chevrolet                  c-10       good   \n",
       "4  auburn  19500  2005.0         ford           f350 lariat  excellent   \n",
       "\n",
       "     cylinders    fuel  odometer title_status transmission drive      size_  \\\n",
       "0  8 cylinders     gas   32742.0        clean        other   rwd        NaN   \n",
       "1  4 cylinders     gas   93600.0        clean    automatic   fwd        NaN   \n",
       "2  6 cylinders     gas   87046.0        clean    automatic   NaN        NaN   \n",
       "3  4 cylinders     gas  190000.0        clean    automatic   rwd  full-size   \n",
       "4  8 cylinders  diesel  116000.0         lien    automatic   4wd  full-size   \n",
       "\n",
       "     type paint_color state        lat       long              posting_date  \n",
       "0   other         NaN    al  32.590000 -85.480000  2020-12-02T08:11:30-0600  \n",
       "1   sedan         NaN    al  32.547500 -85.468200  2020-12-02T02:11:50-0600  \n",
       "2     SUV        blue    al  32.616807 -85.464149  2020-12-01T19:50:41-0600  \n",
       "3  pickup        blue    al  32.861600 -85.216100  2020-12-01T15:54:45-0600  \n",
       "4  pickup        blue    al  32.547500 -85.468200  2020-12-01T12:53:56-0600  "
      ]
     },
     "execution_count": 8,
     "metadata": {},
     "output_type": "execute_result"
    }
   ],
   "source": [
    "df_sel.head()"
   ]
  },
  {
   "cell_type": "markdown",
   "metadata": {},
   "source": [
    "### Convert variables to appropriate data types"
   ]
  },
  {
   "cell_type": "code",
   "execution_count": 9,
   "metadata": {},
   "outputs": [],
   "source": [
    "### Replace unknown and blank cylinder values with None"
   ]
  },
  {
   "cell_type": "code",
   "execution_count": 10,
   "metadata": {},
   "outputs": [],
   "source": [
    "def replace_cylinders(x):\n",
    "    \n",
    "    if x == None or x.strip() == \"\" or x.strip() == \"other\":\n",
    "        return None\n",
    "    else: \n",
    "        return x.replace(\" cylinders\", \"\").strip()\n",
    "\n",
    "### Need to replace \"other\" to something else from Cylinders\n",
    "#df_sel.cylinders = df_sel.cylinders.apply(lambda x : replace_cylinders(x))"
   ]
  },
  {
   "cell_type": "markdown",
   "metadata": {},
   "source": [
    "### Find Missing Values"
   ]
  },
  {
   "cell_type": "code",
   "execution_count": 11,
   "metadata": {},
   "outputs": [
    {
     "data": {
      "text/plain": [
       "region               0\n",
       "price                0\n",
       "year              1050\n",
       "manufacturer     18220\n",
       "model             4846\n",
       "condition       192940\n",
       "cylinders            0\n",
       "fuel              3237\n",
       "odometer         55303\n",
       "title_status      2577\n",
       "transmission      2442\n",
       "drive           134188\n",
       "size_           321348\n",
       "type            112738\n",
       "paint_color     140843\n",
       "state                0\n",
       "lat               7448\n",
       "long              7448\n",
       "posting_date        28\n",
       "dtype: int64"
      ]
     },
     "execution_count": 11,
     "metadata": {},
     "output_type": "execute_result"
    }
   ],
   "source": [
    "df_sel.isnull().sum()"
   ]
  },
  {
   "cell_type": "code",
   "execution_count": 12,
   "metadata": {},
   "outputs": [
    {
     "data": {
      "text/plain": [
       "<AxesSubplot:>"
      ]
     },
     "execution_count": 12,
     "metadata": {},
     "output_type": "execute_result"
    },
    {
     "data": {
      "image/png": "[encoded data removed]",
      "text/plain": [
       "<Figure size 1584x1080 with 2 Axes>"
      ]
     },
     "metadata": {},
     "output_type": "display_data"
    }
   ],
   "source": [
    "fig, ax =plt.subplots(1,figsize=(22, 15))\n",
    "sns.heatmap(df_sel.isnull(), cmap=\"Dark2\")"
   ]
  },
  {
   "cell_type": "code",
   "execution_count": 13,
   "metadata": {},
   "outputs": [],
   "source": [
    "num_attr = [\"year\", \"odometer\", \"lat\", \"long\"]\n",
    "cat_attr = [\"region\", \"manufacturer\", \"model\", \"condition\", \"cylinders\", \"fuel\", \"title_status\", \"transmission\", \"drive\", \"size_\", \"paint_color\", \"state\", \"type\"]"
   ]
  },
  {
   "cell_type": "markdown",
   "metadata": {},
   "source": [
    "### Fill missing values wiht Imputers"
   ]
  },
  {
   "cell_type": "markdown",
   "metadata": {},
   "source": [
    "#### Convert categorical features to numeric using Label Encoder"
   ]
  },
  {
   "cell_type": "code",
   "execution_count": 14,
   "metadata": {},
   "outputs": [
    {
     "name": "stderr",
     "output_type": "stream",
     "text": [
      "/home/sanjay/anaconda3/lib/python3.8/site-packages/sklearn/utils/validation.py:72: DataConversionWarning: A column-vector y was passed when a 1d array was expected. Please change the shape of y to (n_samples, ), for example using ravel().\n",
      "  return f(**kwargs)\n",
      "/home/sanjay/anaconda3/lib/python3.8/site-packages/pandas/core/indexing.py:670: SettingWithCopyWarning: \n",
      "A value is trying to be set on a copy of a slice from a DataFrame\n",
      "\n",
      "See the caveats in the documentation: https://pandas.pydata.org/pandas-docs/stable/user_guide/indexing.html#returning-a-view-versus-a-copy\n",
      "  iloc._setitem_with_indexer(indexer, value)\n"
     ]
    }
   ],
   "source": [
    "# move target variable to last\n",
    "price_col = df_sel.price\n",
    "df_sel = df_sel.drop(columns=[\"price\"])\n",
    "df_sel[\"price\"] = price_col\n",
    "\n",
    "# Copy Data frame for Imputaion estimation\n",
    "df_imputer = df_sel.copy()\n",
    "label_encoder = LabelEncoder()\n",
    "def labelEncode(catFeature):\n",
    "    nonulls = np.array(catFeature.dropna())\n",
    "    impute_reshape = nonulls.reshape(-1,1)\n",
    "    impute_ordinal = label_encoder.fit_transform(impute_reshape)\n",
    "    catFeature.loc[catFeature.notnull()] = np.squeeze(impute_ordinal)\n",
    "    return catFeature\n",
    "\n",
    "for catFeature in cat_attr:\n",
    "    labelEncode(df_imputer[catFeature])\n",
    "    "
   ]
  },
  {
   "cell_type": "code",
   "execution_count": 15,
   "metadata": {},
   "outputs": [
    {
     "data": {
      "text/html": [
       "<div>\n",
       "<style scoped>\n",
       "    .dataframe tbody tr th:only-of-type {\n",
       "        vertical-align: middle;\n",
       "    }\n",
       "\n",
       "    .dataframe tbody tr th {\n",
       "        vertical-align: top;\n",
       "    }\n",
       "\n",
       "    .dataframe thead th {\n",
       "        text-align: right;\n",
       "    }\n",
       "</style>\n",
       "<table border=\"1\" class=\"dataframe\">\n",
       "  <thead>\n",
       "    <tr style=\"text-align: right;\">\n",
       "      <th></th>\n",
       "      <th>region</th>\n",
       "      <th>year</th>\n",
       "      <th>manufacturer</th>\n",
       "      <th>model</th>\n",
       "      <th>condition</th>\n",
       "      <th>cylinders</th>\n",
       "      <th>fuel</th>\n",
       "      <th>odometer</th>\n",
       "      <th>title_status</th>\n",
       "      <th>transmission</th>\n",
       "      <th>drive</th>\n",
       "      <th>size_</th>\n",
       "      <th>type</th>\n",
       "      <th>paint_color</th>\n",
       "      <th>state</th>\n",
       "      <th>lat</th>\n",
       "      <th>long</th>\n",
       "      <th>posting_date</th>\n",
       "      <th>price</th>\n",
       "    </tr>\n",
       "  </thead>\n",
       "  <tbody>\n",
       "    <tr>\n",
       "      <th>0</th>\n",
       "      <td>16</td>\n",
       "      <td>2010.0</td>\n",
       "      <td>7</td>\n",
       "      <td>12317</td>\n",
       "      <td>2</td>\n",
       "      <td>7</td>\n",
       "      <td>2</td>\n",
       "      <td>32742.0</td>\n",
       "      <td>0</td>\n",
       "      <td>2</td>\n",
       "      <td>2</td>\n",
       "      <td>NaN</td>\n",
       "      <td>7</td>\n",
       "      <td>NaN</td>\n",
       "      <td>1</td>\n",
       "      <td>32.590000</td>\n",
       "      <td>-85.480000</td>\n",
       "      <td>2020-12-02T08:11:30-0600</td>\n",
       "      <td>35990</td>\n",
       "    </tr>\n",
       "    <tr>\n",
       "      <th>1</th>\n",
       "      <td>16</td>\n",
       "      <td>2014.0</td>\n",
       "      <td>18</td>\n",
       "      <td>27213</td>\n",
       "      <td>0</td>\n",
       "      <td>4</td>\n",
       "      <td>2</td>\n",
       "      <td>93600.0</td>\n",
       "      <td>0</td>\n",
       "      <td>0</td>\n",
       "      <td>1</td>\n",
       "      <td>NaN</td>\n",
       "      <td>9</td>\n",
       "      <td>NaN</td>\n",
       "      <td>1</td>\n",
       "      <td>32.547500</td>\n",
       "      <td>-85.468200</td>\n",
       "      <td>2020-12-02T02:11:50-0600</td>\n",
       "      <td>7500</td>\n",
       "    </tr>\n",
       "    <tr>\n",
       "      <th>2</th>\n",
       "      <td>16</td>\n",
       "      <td>2006.0</td>\n",
       "      <td>4</td>\n",
       "      <td>30748</td>\n",
       "      <td>2</td>\n",
       "      <td>6</td>\n",
       "      <td>2</td>\n",
       "      <td>87046.0</td>\n",
       "      <td>0</td>\n",
       "      <td>0</td>\n",
       "      <td>NaN</td>\n",
       "      <td>NaN</td>\n",
       "      <td>0</td>\n",
       "      <td>1</td>\n",
       "      <td>1</td>\n",
       "      <td>32.616807</td>\n",
       "      <td>-85.464149</td>\n",
       "      <td>2020-12-01T19:50:41-0600</td>\n",
       "      <td>4900</td>\n",
       "    </tr>\n",
       "    <tr>\n",
       "      <th>3</th>\n",
       "      <td>16</td>\n",
       "      <td>1974.0</td>\n",
       "      <td>7</td>\n",
       "      <td>10101</td>\n",
       "      <td>2</td>\n",
       "      <td>4</td>\n",
       "      <td>2</td>\n",
       "      <td>190000.0</td>\n",
       "      <td>0</td>\n",
       "      <td>0</td>\n",
       "      <td>2</td>\n",
       "      <td>1</td>\n",
       "      <td>8</td>\n",
       "      <td>1</td>\n",
       "      <td>1</td>\n",
       "      <td>32.861600</td>\n",
       "      <td>-85.216100</td>\n",
       "      <td>2020-12-01T15:54:45-0600</td>\n",
       "      <td>2000</td>\n",
       "    </tr>\n",
       "    <tr>\n",
       "      <th>4</th>\n",
       "      <td>16</td>\n",
       "      <td>2005.0</td>\n",
       "      <td>13</td>\n",
       "      <td>16813</td>\n",
       "      <td>0</td>\n",
       "      <td>7</td>\n",
       "      <td>0</td>\n",
       "      <td>116000.0</td>\n",
       "      <td>1</td>\n",
       "      <td>0</td>\n",
       "      <td>0</td>\n",
       "      <td>1</td>\n",
       "      <td>8</td>\n",
       "      <td>1</td>\n",
       "      <td>1</td>\n",
       "      <td>32.547500</td>\n",
       "      <td>-85.468200</td>\n",
       "      <td>2020-12-01T12:53:56-0600</td>\n",
       "      <td>19500</td>\n",
       "    </tr>\n",
       "  </tbody>\n",
       "</table>\n",
       "</div>"
      ],
      "text/plain": [
       "   region    year manufacturer  model condition  cylinders fuel  odometer  \\\n",
       "0      16  2010.0            7  12317         2          7    2   32742.0   \n",
       "1      16  2014.0           18  27213         0          4    2   93600.0   \n",
       "2      16  2006.0            4  30748         2          6    2   87046.0   \n",
       "3      16  1974.0            7  10101         2          4    2  190000.0   \n",
       "4      16  2005.0           13  16813         0          7    0  116000.0   \n",
       "\n",
       "  title_status transmission drive size_ type paint_color  state        lat  \\\n",
       "0            0            2     2   NaN    7         NaN      1  32.590000   \n",
       "1            0            0     1   NaN    9         NaN      1  32.547500   \n",
       "2            0            0   NaN   NaN    0           1      1  32.616807   \n",
       "3            0            0     2     1    8           1      1  32.861600   \n",
       "4            1            0     0     1    8           1      1  32.547500   \n",
       "\n",
       "        long              posting_date  price  \n",
       "0 -85.480000  2020-12-02T08:11:30-0600  35990  \n",
       "1 -85.468200  2020-12-02T02:11:50-0600   7500  \n",
       "2 -85.464149  2020-12-01T19:50:41-0600   4900  \n",
       "3 -85.216100  2020-12-01T15:54:45-0600   2000  \n",
       "4 -85.468200  2020-12-01T12:53:56-0600  19500  "
      ]
     },
     "execution_count": 15,
     "metadata": {},
     "output_type": "execute_result"
    }
   ],
   "source": [
    "df_imputer.head()"
   ]
  },
  {
   "cell_type": "code",
   "execution_count": 16,
   "metadata": {},
   "outputs": [
    {
     "data": {
      "text/plain": [
       "Index(['region', 'year', 'manufacturer', 'model', 'condition', 'cylinders',\n",
       "       'fuel', 'odometer', 'title_status', 'transmission', 'drive', 'size_',\n",
       "       'type', 'paint_color', 'state', 'lat', 'long', 'price'],\n",
       "      dtype='object')"
      ]
     },
     "execution_count": 16,
     "metadata": {},
     "output_type": "execute_result"
    }
   ],
   "source": [
    "drop_cols = []\n",
    "drop_cols.append(\"posting_date\")\n",
    "#drop_cat.extend(num_attr)\n",
    "#print(drop_cat)\n",
    "df_imputer = df_imputer.drop(columns=drop_cols)\n",
    "\n",
    "df_imputer.columns"
   ]
  },
  {
   "cell_type": "markdown",
   "metadata": {},
   "source": [
    "### Find good estimator to fill missing values for categorical features"
   ]
  },
  {
   "cell_type": "markdown",
   "metadata": {},
   "source": [
    "#### Simple Imputer"
   ]
  },
  {
   "cell_type": "code",
   "execution_count": 17,
   "metadata": {},
   "outputs": [],
   "source": [
    "score_simple_imputer = pd.DataFrame() #dataframe to store error of imputer\n",
    "#computing MSE for mean and median\n",
    "for strategy in ('mean', 'median'):\n",
    "    X=df_imputer.iloc[:,:-1]\n",
    "        #y=check_imputer.iloc[:,-1:].values.ravel()\n",
    "    y = np.ravel(df_imputer.iloc[:,-1:])\n",
    "    estimator = make_pipeline(\n",
    "        SimpleImputer(missing_values=np.NaN, strategy=strategy),\n",
    "        BayesianRidge()\n",
    "    )\n",
    "    score_simple_imputer[strategy] = cross_val_score(\n",
    "        estimator, X, y, scoring='neg_mean_squared_error',\n",
    "        cv=None\n",
    "    )\n"
   ]
  },
  {
   "cell_type": "markdown",
   "metadata": {},
   "source": [
    "#### Iterative Imputers"
   ]
  },
  {
   "cell_type": "code",
   "execution_count": 18,
   "metadata": {},
   "outputs": [
    {
     "name": "stdout",
     "output_type": "stream",
     "text": [
      "Estimating BayesianRidge\n",
      "Estimating DecisionTreeRegressor\n",
      "Estimating ExtraTreesRegressor\n",
      "Estimating KNeighborsRegressor\n",
      "Estimating Lasso\n"
     ]
    }
   ],
   "source": [
    "# Estimate the score on the entire dataset by filling missing values by different iterative imputer\n",
    "\n",
    "\n",
    "#estimators for IterativeImputer\n",
    "estimators = [\n",
    "    BayesianRidge(),\n",
    "    DecisionTreeRegressor(max_features='sqrt', random_state=random_state),\n",
    "    ExtraTreesRegressor(n_estimators=10, random_state=random_state, n_jobs=10),\n",
    "    KNeighborsRegressor(n_neighbors=10, n_jobs=10),\n",
    "    #SGDRegressor(random_state=random_state),\n",
    "    Lasso(random_state=random_state)\n",
    "]\n",
    "score_iterative_imputer = pd.DataFrame()\n",
    "for esti in estimators:\n",
    "        print(\"Estimating\",esti.__class__.__name__)\n",
    "        imputer = IterativeImputer(esti)\n",
    "        df_new=df_imputer.copy()\n",
    "        for col in df_imputer.columns:\n",
    "            #col=check_imputer.columns[i]\n",
    "            impute_data=imputer.fit_transform(df_new[col].values.reshape(-1,1))\n",
    "            impute_data=impute_data.astype('int64')\n",
    "            impute_data = pd.DataFrame(np.ravel(impute_data))\n",
    "            df_new[col]=impute_data\n",
    "        X=df_new.iloc[:,:-1]\n",
    "        #y=check_imputer.iloc[:,-1:].values.ravel()\n",
    "        y = np.ravel(df_new.iloc[:,-1:])\n",
    "        score_iterative_imputer[esti.__class__.__name__] = cross_val_score(esti,X,y,scoring='neg_mean_squared_error')"
   ]
  },
  {
   "cell_type": "code",
   "execution_count": 19,
   "metadata": {},
   "outputs": [
    {
     "data": {
      "image/png": "[encoded data removed]",
      "text/plain": [
       "<Figure size 1440x576 with 1 Axes>"
      ]
     },
     "metadata": {},
     "output_type": "display_data"
    },
    {
     "name": "stdout",
     "output_type": "stream",
     "text": [
      "\n",
      "\n",
      "Method with Minimum Error ('IterativeImputer', 'ExtraTreesRegressor')\n"
     ]
    }
   ],
   "source": [
    "#ploting the graphs of scores each method\n",
    "scores = pd.concat(\n",
    "    [score_simple_imputer, score_iterative_imputer],\n",
    "    keys=['SimpleImputer', 'IterativeImputer'], axis=1\n",
    ")\n",
    "fig, ax =plt.subplots(1,figsize=(20, 8))\n",
    "means = -scores.mean()\n",
    "errors = scores.std()\n",
    "means.plot(kind=\"bar\", yerr=errors)\n",
    "plt.xticks(rotation=30)\n",
    "plt.title(\"MSE with Different Imputation Methods\")\n",
    "plt.show()\n",
    "\n",
    "print(\"\\n\\nMethod with Minimum Error\", errors.idxmin())\n",
    "name = errors.idxmin()"
   ]
  },
  {
   "cell_type": "markdown",
   "metadata": {},
   "source": [
    "### Select Estimator for filling missing values"
   ]
  },
  {
   "cell_type": "code",
   "execution_count": 20,
   "metadata": {},
   "outputs": [
    {
     "name": "stdout",
     "output_type": "stream",
     "text": [
      "ExtraTreesRegressor(n_estimators=10, n_jobs=10, random_state=17)\n"
     ]
    }
   ],
   "source": [
    "selected_est =  estimators[2]\n",
    "print(selected_est)    "
   ]
  },
  {
   "cell_type": "markdown",
   "metadata": {},
   "source": [
    "### Fill missing values for Numerical Atrributes"
   ]
  },
  {
   "cell_type": "code",
   "execution_count": 21,
   "metadata": {},
   "outputs": [
    {
     "data": {
      "text/plain": [
       "year         1050\n",
       "odometer    55303\n",
       "lat          7448\n",
       "long         7448\n",
       "dtype: int64"
      ]
     },
     "execution_count": 21,
     "metadata": {},
     "output_type": "execute_result"
    }
   ],
   "source": [
    "df_sel.isnull().sum()[num_attr]"
   ]
  },
  {
   "cell_type": "code",
   "execution_count": 22,
   "metadata": {},
   "outputs": [
    {
     "name": "stderr",
     "output_type": "stream",
     "text": [
      "/home/sanjay/anaconda3/lib/python3.8/site-packages/sklearn/impute/_iterative.py:669: ConvergenceWarning: [IterativeImputer] Early stopping criterion not reached.\n",
      "  warnings.warn(\"[IterativeImputer] Early stopping criterion not\"\n"
     ]
    }
   ],
   "source": [
    "df_num=df_sel[num_attr]\n",
    "imputer=IterativeImputer(selected_est) \n",
    "imputed_data=imputer.fit_transform(df_num)\n",
    "df_sel[num_attr]=imputed_data"
   ]
  },
  {
   "cell_type": "code",
   "execution_count": 23,
   "metadata": {},
   "outputs": [
    {
     "data": {
      "text/plain": [
       "year        0\n",
       "odometer    0\n",
       "lat         0\n",
       "long        0\n",
       "dtype: int64"
      ]
     },
     "execution_count": 23,
     "metadata": {},
     "output_type": "execute_result"
    }
   ],
   "source": [
    "df_sel.isnull().sum()[num_attr]"
   ]
  },
  {
   "cell_type": "markdown",
   "metadata": {},
   "source": [
    "### Fill missing values for Categorical Atrributes"
   ]
  },
  {
   "cell_type": "code",
   "execution_count": 24,
   "metadata": {},
   "outputs": [
    {
     "data": {
      "text/plain": [
       "region               0\n",
       "manufacturer     18220\n",
       "model             4846\n",
       "condition       192940\n",
       "cylinders            0\n",
       "fuel              3237\n",
       "title_status      2577\n",
       "transmission      2442\n",
       "drive           134188\n",
       "size_           321348\n",
       "paint_color     140843\n",
       "state                0\n",
       "type            112738\n",
       "dtype: int64"
      ]
     },
     "execution_count": 24,
     "metadata": {},
     "output_type": "execute_result"
    }
   ],
   "source": [
    "df_sel.isnull().sum()[cat_attr]"
   ]
  },
  {
   "cell_type": "code",
   "execution_count": 25,
   "metadata": {},
   "outputs": [
    {
     "name": "stderr",
     "output_type": "stream",
     "text": [
      "/home/sanjay/anaconda3/lib/python3.8/site-packages/sklearn/utils/validation.py:72: DataConversionWarning: A column-vector y was passed when a 1d array was expected. Please change the shape of y to (n_samples, ), for example using ravel().\n",
      "  return f(**kwargs)\n",
      "/home/sanjay/anaconda3/lib/python3.8/site-packages/pandas/core/indexing.py:670: SettingWithCopyWarning: \n",
      "A value is trying to be set on a copy of a slice from a DataFrame\n",
      "\n",
      "See the caveats in the documentation: https://pandas.pydata.org/pandas-docs/stable/user_guide/indexing.html#returning-a-view-versus-a-copy\n",
      "  iloc._setitem_with_indexer(indexer, value)\n",
      "/home/sanjay/anaconda3/lib/python3.8/site-packages/sklearn/impute/_iterative.py:669: ConvergenceWarning: [IterativeImputer] Early stopping criterion not reached.\n",
      "  warnings.warn(\"[IterativeImputer] Early stopping criterion not\"\n"
     ]
    }
   ],
   "source": [
    "# encode categorical columns to numbers\n",
    "for catFeature in cat_attr:\n",
    "    labelEncode(df_sel[catFeature])\n",
    "    \n",
    "# Fill missing values\n",
    "df_cat=df_sel[cat_attr]\n",
    "imputer=IterativeImputer(selected_est) \n",
    "imputed_data=imputer.fit_transform(df_cat)\n",
    "df_sel[cat_attr]=imputed_data"
   ]
  },
  {
   "cell_type": "code",
   "execution_count": 26,
   "metadata": {},
   "outputs": [
    {
     "data": {
      "text/plain": [
       "region          0\n",
       "manufacturer    0\n",
       "model           0\n",
       "condition       0\n",
       "cylinders       0\n",
       "fuel            0\n",
       "title_status    0\n",
       "transmission    0\n",
       "drive           0\n",
       "size_           0\n",
       "paint_color     0\n",
       "state           0\n",
       "type            0\n",
       "dtype: int64"
      ]
     },
     "execution_count": 26,
     "metadata": {},
     "output_type": "execute_result"
    }
   ],
   "source": [
    "df_sel.isnull().sum()[cat_attr]"
   ]
  },
  {
   "cell_type": "markdown",
   "metadata": {},
   "source": [
    "### Distribution and outlier for years"
   ]
  },
  {
   "cell_type": "code",
   "execution_count": 27,
   "metadata": {},
   "outputs": [
    {
     "data": {
      "text/plain": [
       "count    458213.000000\n",
       "mean       2010.748852\n",
       "std           8.865706\n",
       "min        1900.000000\n",
       "25%        2008.000000\n",
       "50%        2013.000000\n",
       "75%        2016.000000\n",
       "max        2021.000000\n",
       "Name: year, dtype: float64"
      ]
     },
     "execution_count": 27,
     "metadata": {},
     "output_type": "execute_result"
    }
   ],
   "source": [
    "df_sel.year.describe()"
   ]
  },
  {
   "cell_type": "code",
   "execution_count": 28,
   "metadata": {},
   "outputs": [
    {
     "data": {
      "image/png": "[encoded data removed]",
      "text/plain": [
       "<Figure size 1152x576 with 1 Axes>"
      ]
     },
     "metadata": {},
     "output_type": "display_data"
    }
   ],
   "source": [
    "sns.displot(x=df_sel.year, kde=True, height=8, aspect=2 )\n",
    "plt.show()"
   ]
  },
  {
   "cell_type": "markdown",
   "metadata": {},
   "source": [
    "### Distribution and outlier for odometer"
   ]
  },
  {
   "cell_type": "code",
   "execution_count": 29,
   "metadata": {},
   "outputs": [
    {
     "data": {
      "text/plain": [
       "count    4.582130e+05\n",
       "mean     1.042159e+05\n",
       "std      3.028472e+06\n",
       "min      0.000000e+00\n",
       "25%      4.330200e+04\n",
       "50%      9.078000e+04\n",
       "75%      1.367487e+05\n",
       "max      2.043756e+09\n",
       "Name: odometer, dtype: float64"
      ]
     },
     "execution_count": 29,
     "metadata": {},
     "output_type": "execute_result"
    }
   ],
   "source": [
    "df_sel.odometer.describe()"
   ]
  },
  {
   "cell_type": "code",
   "execution_count": 30,
   "metadata": {},
   "outputs": [
    {
     "data": {
      "image/png": "[encoded data removed]",
      "text/plain": [
       "<Figure size 1152x576 with 1 Axes>"
      ]
     },
     "metadata": {},
     "output_type": "display_data"
    }
   ],
   "source": [
    "sns.displot(x=df_sel.odometer, kde=True, rug=True, height=8, bins=500, aspect=2 )\n",
    "plt.show()\n",
    "\n"
   ]
  },
  {
   "cell_type": "markdown",
   "metadata": {},
   "source": [
    "### Distribution and outlier for price"
   ]
  },
  {
   "cell_type": "code",
   "execution_count": 31,
   "metadata": {},
   "outputs": [
    {
     "data": {
      "text/plain": [
       "count    4.582130e+05\n",
       "mean     4.042093e+04\n",
       "std      8.194599e+06\n",
       "min      0.000000e+00\n",
       "25%      4.900000e+03\n",
       "50%      1.099500e+04\n",
       "75%      2.149500e+04\n",
       "max      3.615215e+09\n",
       "Name: price, dtype: float64"
      ]
     },
     "execution_count": 31,
     "metadata": {},
     "output_type": "execute_result"
    }
   ],
   "source": [
    "df_sel.price.describe()"
   ]
  },
  {
   "cell_type": "code",
   "execution_count": 32,
   "metadata": {},
   "outputs": [
    {
     "data": {
      "image/png": "[encoded data removed]",
      "text/plain": [
       "<Figure size 1152x576 with 1 Axes>"
      ]
     },
     "metadata": {},
     "output_type": "display_data"
    }
   ],
   "source": [
    "sns.displot(x=df_sel.price, kde=True, rug=True, height=8, bins=50, aspect=2 )\n",
    "plt.show()"
   ]
  },
  {
   "cell_type": "code",
   "execution_count": 33,
   "metadata": {},
   "outputs": [],
   "source": [
    "df_sel.region = pd.Categorical(df_sel.region)\n",
    "df_sel.year = pd.Categorical(df_sel.year)\n",
    "df_sel.manufacturer = pd.Categorical(df_sel.manufacturer)\n",
    "df_sel.model = pd.Categorical(df_sel.model)\n",
    "df_sel.condition = pd.Categorical(df_sel.condition)\n",
    "df_sel.fuel = pd.Categorical(df_sel.fuel)\n",
    "df_sel.title_status = pd.Categorical(df_sel.title_status)\n",
    "df_sel.transmission = pd.Categorical(df_sel.transmission)\n",
    "df_sel.drive = pd.Categorical(df_sel.drive)\n",
    "df_sel.size_ = pd.Categorical(df_sel.size_)\n",
    "df_sel.type = pd.Categorical(df_sel.type)\n",
    "df_sel.paint_color = pd.Categorical(df_sel.paint_color)\n",
    "df_sel.state = pd.Categorical(df_sel.state, )"
   ]
  },
  {
   "cell_type": "code",
   "execution_count": 34,
   "metadata": {},
   "outputs": [],
   "source": [
    "df_sel = df_sel[df_sel.year.notnull()]\n",
    "df_sel[\"age\"] = df_sel.year.apply(lambda x: int(2020-x))"
   ]
  },
  {
   "cell_type": "code",
   "execution_count": 35,
   "metadata": {},
   "outputs": [
    {
     "data": {
      "text/html": [
       "<div>\n",
       "<style scoped>\n",
       "    .dataframe tbody tr th:only-of-type {\n",
       "        vertical-align: middle;\n",
       "    }\n",
       "\n",
       "    .dataframe tbody tr th {\n",
       "        vertical-align: top;\n",
       "    }\n",
       "\n",
       "    .dataframe thead th {\n",
       "        text-align: right;\n",
       "    }\n",
       "</style>\n",
       "<table border=\"1\" class=\"dataframe\">\n",
       "  <thead>\n",
       "    <tr style=\"text-align: right;\">\n",
       "      <th></th>\n",
       "      <th>region</th>\n",
       "      <th>year</th>\n",
       "      <th>manufacturer</th>\n",
       "      <th>model</th>\n",
       "      <th>condition</th>\n",
       "      <th>cylinders</th>\n",
       "      <th>fuel</th>\n",
       "      <th>odometer</th>\n",
       "      <th>title_status</th>\n",
       "      <th>transmission</th>\n",
       "      <th>drive</th>\n",
       "      <th>size_</th>\n",
       "      <th>type</th>\n",
       "      <th>paint_color</th>\n",
       "      <th>state</th>\n",
       "      <th>lat</th>\n",
       "      <th>long</th>\n",
       "      <th>posting_date</th>\n",
       "      <th>price</th>\n",
       "      <th>age</th>\n",
       "    </tr>\n",
       "  </thead>\n",
       "  <tbody>\n",
       "    <tr>\n",
       "      <th>0</th>\n",
       "      <td>16.0</td>\n",
       "      <td>2010.0</td>\n",
       "      <td>7.0</td>\n",
       "      <td>12317.0</td>\n",
       "      <td>2.0</td>\n",
       "      <td>7.0</td>\n",
       "      <td>2.0</td>\n",
       "      <td>32742.0</td>\n",
       "      <td>0.0</td>\n",
       "      <td>2.0</td>\n",
       "      <td>2.000000</td>\n",
       "      <td>1.9</td>\n",
       "      <td>7.0</td>\n",
       "      <td>7.5</td>\n",
       "      <td>1.0</td>\n",
       "      <td>32.590000</td>\n",
       "      <td>-85.480000</td>\n",
       "      <td>2020-12-02T08:11:30-0600</td>\n",
       "      <td>35990</td>\n",
       "      <td>10</td>\n",
       "    </tr>\n",
       "    <tr>\n",
       "      <th>1</th>\n",
       "      <td>16.0</td>\n",
       "      <td>2014.0</td>\n",
       "      <td>18.0</td>\n",
       "      <td>27213.0</td>\n",
       "      <td>0.0</td>\n",
       "      <td>4.0</td>\n",
       "      <td>2.0</td>\n",
       "      <td>93600.0</td>\n",
       "      <td>0.0</td>\n",
       "      <td>0.0</td>\n",
       "      <td>1.000000</td>\n",
       "      <td>1.6</td>\n",
       "      <td>9.0</td>\n",
       "      <td>2.7</td>\n",
       "      <td>1.0</td>\n",
       "      <td>32.547500</td>\n",
       "      <td>-85.468200</td>\n",
       "      <td>2020-12-02T02:11:50-0600</td>\n",
       "      <td>7500</td>\n",
       "      <td>6</td>\n",
       "    </tr>\n",
       "    <tr>\n",
       "      <th>2</th>\n",
       "      <td>16.0</td>\n",
       "      <td>2006.0</td>\n",
       "      <td>4.0</td>\n",
       "      <td>30748.0</td>\n",
       "      <td>2.0</td>\n",
       "      <td>6.0</td>\n",
       "      <td>2.0</td>\n",
       "      <td>87046.0</td>\n",
       "      <td>0.0</td>\n",
       "      <td>0.0</td>\n",
       "      <td>0.833333</td>\n",
       "      <td>1.5</td>\n",
       "      <td>0.0</td>\n",
       "      <td>1.0</td>\n",
       "      <td>1.0</td>\n",
       "      <td>32.616807</td>\n",
       "      <td>-85.464149</td>\n",
       "      <td>2020-12-01T19:50:41-0600</td>\n",
       "      <td>4900</td>\n",
       "      <td>14</td>\n",
       "    </tr>\n",
       "    <tr>\n",
       "      <th>3</th>\n",
       "      <td>16.0</td>\n",
       "      <td>1974.0</td>\n",
       "      <td>7.0</td>\n",
       "      <td>10101.0</td>\n",
       "      <td>2.0</td>\n",
       "      <td>4.0</td>\n",
       "      <td>2.0</td>\n",
       "      <td>190000.0</td>\n",
       "      <td>0.0</td>\n",
       "      <td>0.0</td>\n",
       "      <td>2.000000</td>\n",
       "      <td>1.0</td>\n",
       "      <td>8.0</td>\n",
       "      <td>1.0</td>\n",
       "      <td>1.0</td>\n",
       "      <td>32.861600</td>\n",
       "      <td>-85.216100</td>\n",
       "      <td>2020-12-01T15:54:45-0600</td>\n",
       "      <td>2000</td>\n",
       "      <td>46</td>\n",
       "    </tr>\n",
       "    <tr>\n",
       "      <th>4</th>\n",
       "      <td>16.0</td>\n",
       "      <td>2005.0</td>\n",
       "      <td>13.0</td>\n",
       "      <td>16813.0</td>\n",
       "      <td>0.0</td>\n",
       "      <td>7.0</td>\n",
       "      <td>0.0</td>\n",
       "      <td>116000.0</td>\n",
       "      <td>1.0</td>\n",
       "      <td>0.0</td>\n",
       "      <td>0.000000</td>\n",
       "      <td>1.0</td>\n",
       "      <td>8.0</td>\n",
       "      <td>1.0</td>\n",
       "      <td>1.0</td>\n",
       "      <td>32.547500</td>\n",
       "      <td>-85.468200</td>\n",
       "      <td>2020-12-01T12:53:56-0600</td>\n",
       "      <td>19500</td>\n",
       "      <td>15</td>\n",
       "    </tr>\n",
       "  </tbody>\n",
       "</table>\n",
       "</div>"
      ],
      "text/plain": [
       "  region    year manufacturer    model condition  cylinders fuel  odometer  \\\n",
       "0   16.0  2010.0          7.0  12317.0       2.0        7.0  2.0   32742.0   \n",
       "1   16.0  2014.0         18.0  27213.0       0.0        4.0  2.0   93600.0   \n",
       "2   16.0  2006.0          4.0  30748.0       2.0        6.0  2.0   87046.0   \n",
       "3   16.0  1974.0          7.0  10101.0       2.0        4.0  2.0  190000.0   \n",
       "4   16.0  2005.0         13.0  16813.0       0.0        7.0  0.0  116000.0   \n",
       "\n",
       "  title_status transmission     drive size_ type paint_color state        lat  \\\n",
       "0          0.0          2.0  2.000000   1.9  7.0         7.5   1.0  32.590000   \n",
       "1          0.0          0.0  1.000000   1.6  9.0         2.7   1.0  32.547500   \n",
       "2          0.0          0.0  0.833333   1.5  0.0         1.0   1.0  32.616807   \n",
       "3          0.0          0.0  2.000000   1.0  8.0         1.0   1.0  32.861600   \n",
       "4          1.0          0.0  0.000000   1.0  8.0         1.0   1.0  32.547500   \n",
       "\n",
       "        long              posting_date  price  age  \n",
       "0 -85.480000  2020-12-02T08:11:30-0600  35990   10  \n",
       "1 -85.468200  2020-12-02T02:11:50-0600   7500    6  \n",
       "2 -85.464149  2020-12-01T19:50:41-0600   4900   14  \n",
       "3 -85.216100  2020-12-01T15:54:45-0600   2000   46  \n",
       "4 -85.468200  2020-12-01T12:53:56-0600  19500   15  "
      ]
     },
     "execution_count": 35,
     "metadata": {},
     "output_type": "execute_result"
    }
   ],
   "source": [
    "df_sel.head()"
   ]
  },
  {
   "cell_type": "markdown",
   "metadata": {},
   "source": [
    "### Need to replace other to something else"
   ]
  },
  {
   "cell_type": "code",
   "execution_count": null,
   "metadata": {},
   "outputs": [],
   "source": []
  },
  {
   "cell_type": "code",
   "execution_count": 36,
   "metadata": {},
   "outputs": [
    {
     "data": {
      "text/plain": [
       "<AxesSubplot:xlabel='model', ylabel='count'>"
      ]
     },
     "execution_count": 36,
     "metadata": {},
     "output_type": "execute_result"
    },
    {
     "data": {
      "image/png": "[encoded data removed]",
      "text/plain": [
       "<Figure size 1584x1080 with 1 Axes>"
      ]
     },
     "metadata": {},
     "output_type": "display_data"
    }
   ],
   "source": [
    "fig, ax =plt.subplots(1,figsize=(22, 15))\n",
    "sns.countplot(x ='model', data = df_sel, order=df_sel.model.value_counts().iloc[:25].index)"
   ]
  },
  {
   "cell_type": "code",
   "execution_count": 37,
   "metadata": {},
   "outputs": [
    {
     "data": {
      "text/plain": [
       "<AxesSubplot:xlabel='manufacturer', ylabel='count'>"
      ]
     },
     "execution_count": 37,
     "metadata": {},
     "output_type": "execute_result"
    },
    {
     "data": {
      "image/png": "[encoded data removed]",
      "text/plain": [
       "<Figure size 1584x1080 with 1 Axes>"
      ]
     },
     "metadata": {},
     "output_type": "display_data"
    }
   ],
   "source": [
    "fig, ax =plt.subplots(1,figsize=(22, 15))\n",
    "sns.countplot(x ='manufacturer',data = df_sel,order=df_sel.manufacturer.value_counts().iloc[:25].index)"
   ]
  },
  {
   "cell_type": "code",
   "execution_count": 38,
   "metadata": {},
   "outputs": [
    {
     "data": {
      "text/plain": [
       "<AxesSubplot:xlabel='type', ylabel='count'>"
      ]
     },
     "execution_count": 38,
     "metadata": {},
     "output_type": "execute_result"
    },
    {
     "data": {
      "image/png": "[encoded data removed]",
      "text/plain": [
       "<Figure size 1584x1080 with 1 Axes>"
      ]
     },
     "metadata": {},
     "output_type": "display_data"
    }
   ],
   "source": [
    "fig, ax =plt.subplots(1,figsize=(22, 15))\n",
    "sns.countplot(x ='type',data = df_sel,order=df_sel.type.value_counts().iloc[:15].index)"
   ]
  },
  {
   "cell_type": "code",
   "execution_count": 39,
   "metadata": {},
   "outputs": [],
   "source": [
    "#sns.pairplot(data = df_sel)"
   ]
  },
  {
   "cell_type": "code",
   "execution_count": 40,
   "metadata": {
    "scrolled": true
   },
   "outputs": [],
   "source": [
    "df_sel.condition.unique()\n",
    "df_sel = df_sel.dropna()"
   ]
  },
  {
   "cell_type": "code",
   "execution_count": 41,
   "metadata": {},
   "outputs": [
    {
     "data": {
      "text/plain": [
       "[2.0, 0.0, 1.3, 3.0, 1.9, ..., 2.033333, 2.011111, 0.341667, 1.833333, 2.550000]\n",
       "Length: 248\n",
       "Categories (248, float64): [2.0, 0.0, 1.3, 3.0, ..., 2.011111, 0.341667, 1.833333, 2.550000]"
      ]
     },
     "execution_count": 41,
     "metadata": {},
     "output_type": "execute_result"
    }
   ],
   "source": [
    "df_sel.condition.unique()"
   ]
  },
  {
   "cell_type": "code",
   "execution_count": 42,
   "metadata": {},
   "outputs": [],
   "source": [
    "df_dummies = pd.get_dummies(df_sel.condition)"
   ]
  },
  {
   "cell_type": "code",
   "execution_count": 43,
   "metadata": {},
   "outputs": [
    {
     "data": {
      "text/html": [
       "<div>\n",
       "<style scoped>\n",
       "    .dataframe tbody tr th:only-of-type {\n",
       "        vertical-align: middle;\n",
       "    }\n",
       "\n",
       "    .dataframe tbody tr th {\n",
       "        vertical-align: top;\n",
       "    }\n",
       "\n",
       "    .dataframe thead th {\n",
       "        text-align: right;\n",
       "    }\n",
       "</style>\n",
       "<table border=\"1\" class=\"dataframe\">\n",
       "  <thead>\n",
       "    <tr style=\"text-align: right;\">\n",
       "      <th></th>\n",
       "      <th>price</th>\n",
       "      <th>0.0</th>\n",
       "      <th>0.04166666666666667</th>\n",
       "      <th>0.05</th>\n",
       "      <th>0.06666666666666667</th>\n",
       "      <th>0.075</th>\n",
       "      <th>0.1</th>\n",
       "      <th>0.13333333333333333</th>\n",
       "      <th>0.15</th>\n",
       "      <th>0.16666666666666669</th>\n",
       "      <th>...</th>\n",
       "      <th>3.4</th>\n",
       "      <th>3.5</th>\n",
       "      <th>3.6</th>\n",
       "      <th>3.7</th>\n",
       "      <th>3.8</th>\n",
       "      <th>3.9</th>\n",
       "      <th>4.0</th>\n",
       "      <th>4.2</th>\n",
       "      <th>4.7</th>\n",
       "      <th>5.0</th>\n",
       "    </tr>\n",
       "  </thead>\n",
       "  <tbody>\n",
       "    <tr>\n",
       "      <th>0</th>\n",
       "      <td>35990</td>\n",
       "      <td>0</td>\n",
       "      <td>0</td>\n",
       "      <td>0</td>\n",
       "      <td>0</td>\n",
       "      <td>0</td>\n",
       "      <td>0</td>\n",
       "      <td>0</td>\n",
       "      <td>0</td>\n",
       "      <td>0</td>\n",
       "      <td>...</td>\n",
       "      <td>0</td>\n",
       "      <td>0</td>\n",
       "      <td>0</td>\n",
       "      <td>0</td>\n",
       "      <td>0</td>\n",
       "      <td>0</td>\n",
       "      <td>0</td>\n",
       "      <td>0</td>\n",
       "      <td>0</td>\n",
       "      <td>0</td>\n",
       "    </tr>\n",
       "    <tr>\n",
       "      <th>1</th>\n",
       "      <td>7500</td>\n",
       "      <td>1</td>\n",
       "      <td>0</td>\n",
       "      <td>0</td>\n",
       "      <td>0</td>\n",
       "      <td>0</td>\n",
       "      <td>0</td>\n",
       "      <td>0</td>\n",
       "      <td>0</td>\n",
       "      <td>0</td>\n",
       "      <td>...</td>\n",
       "      <td>0</td>\n",
       "      <td>0</td>\n",
       "      <td>0</td>\n",
       "      <td>0</td>\n",
       "      <td>0</td>\n",
       "      <td>0</td>\n",
       "      <td>0</td>\n",
       "      <td>0</td>\n",
       "      <td>0</td>\n",
       "      <td>0</td>\n",
       "    </tr>\n",
       "    <tr>\n",
       "      <th>2</th>\n",
       "      <td>4900</td>\n",
       "      <td>0</td>\n",
       "      <td>0</td>\n",
       "      <td>0</td>\n",
       "      <td>0</td>\n",
       "      <td>0</td>\n",
       "      <td>0</td>\n",
       "      <td>0</td>\n",
       "      <td>0</td>\n",
       "      <td>0</td>\n",
       "      <td>...</td>\n",
       "      <td>0</td>\n",
       "      <td>0</td>\n",
       "      <td>0</td>\n",
       "      <td>0</td>\n",
       "      <td>0</td>\n",
       "      <td>0</td>\n",
       "      <td>0</td>\n",
       "      <td>0</td>\n",
       "      <td>0</td>\n",
       "      <td>0</td>\n",
       "    </tr>\n",
       "    <tr>\n",
       "      <th>3</th>\n",
       "      <td>2000</td>\n",
       "      <td>0</td>\n",
       "      <td>0</td>\n",
       "      <td>0</td>\n",
       "      <td>0</td>\n",
       "      <td>0</td>\n",
       "      <td>0</td>\n",
       "      <td>0</td>\n",
       "      <td>0</td>\n",
       "      <td>0</td>\n",
       "      <td>...</td>\n",
       "      <td>0</td>\n",
       "      <td>0</td>\n",
       "      <td>0</td>\n",
       "      <td>0</td>\n",
       "      <td>0</td>\n",
       "      <td>0</td>\n",
       "      <td>0</td>\n",
       "      <td>0</td>\n",
       "      <td>0</td>\n",
       "      <td>0</td>\n",
       "    </tr>\n",
       "    <tr>\n",
       "      <th>4</th>\n",
       "      <td>19500</td>\n",
       "      <td>1</td>\n",
       "      <td>0</td>\n",
       "      <td>0</td>\n",
       "      <td>0</td>\n",
       "      <td>0</td>\n",
       "      <td>0</td>\n",
       "      <td>0</td>\n",
       "      <td>0</td>\n",
       "      <td>0</td>\n",
       "      <td>...</td>\n",
       "      <td>0</td>\n",
       "      <td>0</td>\n",
       "      <td>0</td>\n",
       "      <td>0</td>\n",
       "      <td>0</td>\n",
       "      <td>0</td>\n",
       "      <td>0</td>\n",
       "      <td>0</td>\n",
       "      <td>0</td>\n",
       "      <td>0</td>\n",
       "    </tr>\n",
       "    <tr>\n",
       "      <th>...</th>\n",
       "      <td>...</td>\n",
       "      <td>...</td>\n",
       "      <td>...</td>\n",
       "      <td>...</td>\n",
       "      <td>...</td>\n",
       "      <td>...</td>\n",
       "      <td>...</td>\n",
       "      <td>...</td>\n",
       "      <td>...</td>\n",
       "      <td>...</td>\n",
       "      <td>...</td>\n",
       "      <td>...</td>\n",
       "      <td>...</td>\n",
       "      <td>...</td>\n",
       "      <td>...</td>\n",
       "      <td>...</td>\n",
       "      <td>...</td>\n",
       "      <td>...</td>\n",
       "      <td>...</td>\n",
       "      <td>...</td>\n",
       "      <td>...</td>\n",
       "    </tr>\n",
       "    <tr>\n",
       "      <th>458208</th>\n",
       "      <td>14995</td>\n",
       "      <td>1</td>\n",
       "      <td>0</td>\n",
       "      <td>0</td>\n",
       "      <td>0</td>\n",
       "      <td>0</td>\n",
       "      <td>0</td>\n",
       "      <td>0</td>\n",
       "      <td>0</td>\n",
       "      <td>0</td>\n",
       "      <td>...</td>\n",
       "      <td>0</td>\n",
       "      <td>0</td>\n",
       "      <td>0</td>\n",
       "      <td>0</td>\n",
       "      <td>0</td>\n",
       "      <td>0</td>\n",
       "      <td>0</td>\n",
       "      <td>0</td>\n",
       "      <td>0</td>\n",
       "      <td>0</td>\n",
       "    </tr>\n",
       "    <tr>\n",
       "      <th>458209</th>\n",
       "      <td>17895</td>\n",
       "      <td>1</td>\n",
       "      <td>0</td>\n",
       "      <td>0</td>\n",
       "      <td>0</td>\n",
       "      <td>0</td>\n",
       "      <td>0</td>\n",
       "      <td>0</td>\n",
       "      <td>0</td>\n",
       "      <td>0</td>\n",
       "      <td>...</td>\n",
       "      <td>0</td>\n",
       "      <td>0</td>\n",
       "      <td>0</td>\n",
       "      <td>0</td>\n",
       "      <td>0</td>\n",
       "      <td>0</td>\n",
       "      <td>0</td>\n",
       "      <td>0</td>\n",
       "      <td>0</td>\n",
       "      <td>0</td>\n",
       "    </tr>\n",
       "    <tr>\n",
       "      <th>458210</th>\n",
       "      <td>17900</td>\n",
       "      <td>1</td>\n",
       "      <td>0</td>\n",
       "      <td>0</td>\n",
       "      <td>0</td>\n",
       "      <td>0</td>\n",
       "      <td>0</td>\n",
       "      <td>0</td>\n",
       "      <td>0</td>\n",
       "      <td>0</td>\n",
       "      <td>...</td>\n",
       "      <td>0</td>\n",
       "      <td>0</td>\n",
       "      <td>0</td>\n",
       "      <td>0</td>\n",
       "      <td>0</td>\n",
       "      <td>0</td>\n",
       "      <td>0</td>\n",
       "      <td>0</td>\n",
       "      <td>0</td>\n",
       "      <td>0</td>\n",
       "    </tr>\n",
       "    <tr>\n",
       "      <th>458211</th>\n",
       "      <td>1300</td>\n",
       "      <td>0</td>\n",
       "      <td>0</td>\n",
       "      <td>0</td>\n",
       "      <td>0</td>\n",
       "      <td>0</td>\n",
       "      <td>0</td>\n",
       "      <td>0</td>\n",
       "      <td>0</td>\n",
       "      <td>0</td>\n",
       "      <td>...</td>\n",
       "      <td>0</td>\n",
       "      <td>0</td>\n",
       "      <td>0</td>\n",
       "      <td>0</td>\n",
       "      <td>0</td>\n",
       "      <td>0</td>\n",
       "      <td>0</td>\n",
       "      <td>0</td>\n",
       "      <td>0</td>\n",
       "      <td>0</td>\n",
       "    </tr>\n",
       "    <tr>\n",
       "      <th>458212</th>\n",
       "      <td>22900</td>\n",
       "      <td>0</td>\n",
       "      <td>0</td>\n",
       "      <td>0</td>\n",
       "      <td>0</td>\n",
       "      <td>0</td>\n",
       "      <td>0</td>\n",
       "      <td>0</td>\n",
       "      <td>0</td>\n",
       "      <td>0</td>\n",
       "      <td>...</td>\n",
       "      <td>0</td>\n",
       "      <td>0</td>\n",
       "      <td>0</td>\n",
       "      <td>0</td>\n",
       "      <td>0</td>\n",
       "      <td>0</td>\n",
       "      <td>0</td>\n",
       "      <td>0</td>\n",
       "      <td>0</td>\n",
       "      <td>0</td>\n",
       "    </tr>\n",
       "  </tbody>\n",
       "</table>\n",
       "<p>458185 rows × 249 columns</p>\n",
       "</div>"
      ],
      "text/plain": [
       "        price  0.0  0.04166666666666667  0.05  0.06666666666666667  0.075  \\\n",
       "0       35990    0                    0     0                    0      0   \n",
       "1        7500    1                    0     0                    0      0   \n",
       "2        4900    0                    0     0                    0      0   \n",
       "3        2000    0                    0     0                    0      0   \n",
       "4       19500    1                    0     0                    0      0   \n",
       "...       ...  ...                  ...   ...                  ...    ...   \n",
       "458208  14995    1                    0     0                    0      0   \n",
       "458209  17895    1                    0     0                    0      0   \n",
       "458210  17900    1                    0     0                    0      0   \n",
       "458211   1300    0                    0     0                    0      0   \n",
       "458212  22900    0                    0     0                    0      0   \n",
       "\n",
       "        0.1  0.13333333333333333  0.15  0.16666666666666669  ...  3.4  3.5  \\\n",
       "0         0                    0     0                    0  ...    0    0   \n",
       "1         0                    0     0                    0  ...    0    0   \n",
       "2         0                    0     0                    0  ...    0    0   \n",
       "3         0                    0     0                    0  ...    0    0   \n",
       "4         0                    0     0                    0  ...    0    0   \n",
       "...     ...                  ...   ...                  ...  ...  ...  ...   \n",
       "458208    0                    0     0                    0  ...    0    0   \n",
       "458209    0                    0     0                    0  ...    0    0   \n",
       "458210    0                    0     0                    0  ...    0    0   \n",
       "458211    0                    0     0                    0  ...    0    0   \n",
       "458212    0                    0     0                    0  ...    0    0   \n",
       "\n",
       "        3.6  3.7  3.8  3.9  4.0  4.2  4.7  5.0  \n",
       "0         0    0    0    0    0    0    0    0  \n",
       "1         0    0    0    0    0    0    0    0  \n",
       "2         0    0    0    0    0    0    0    0  \n",
       "3         0    0    0    0    0    0    0    0  \n",
       "4         0    0    0    0    0    0    0    0  \n",
       "...     ...  ...  ...  ...  ...  ...  ...  ...  \n",
       "458208    0    0    0    0    0    0    0    0  \n",
       "458209    0    0    0    0    0    0    0    0  \n",
       "458210    0    0    0    0    0    0    0    0  \n",
       "458211    0    0    0    0    0    0    0    0  \n",
       "458212    0    0    0    0    0    0    0    0  \n",
       "\n",
       "[458185 rows x 249 columns]"
      ]
     },
     "execution_count": 43,
     "metadata": {},
     "output_type": "execute_result"
    }
   ],
   "source": [
    "df_condition = pd.concat([df_sel.price, df_dummies], axis=1)\n",
    "df_condition"
   ]
  },
  {
   "cell_type": "code",
   "execution_count": 44,
   "metadata": {},
   "outputs": [
    {
     "data": {
      "text/html": [
       "<div>\n",
       "<style scoped>\n",
       "    .dataframe tbody tr th:only-of-type {\n",
       "        vertical-align: middle;\n",
       "    }\n",
       "\n",
       "    .dataframe tbody tr th {\n",
       "        vertical-align: top;\n",
       "    }\n",
       "\n",
       "    .dataframe thead th {\n",
       "        text-align: right;\n",
       "    }\n",
       "</style>\n",
       "<table border=\"1\" class=\"dataframe\">\n",
       "  <thead>\n",
       "    <tr style=\"text-align: right;\">\n",
       "      <th></th>\n",
       "      <th>price</th>\n",
       "      <th>0.0</th>\n",
       "      <th>0.04166666666666667</th>\n",
       "      <th>0.05</th>\n",
       "      <th>0.06666666666666667</th>\n",
       "      <th>0.075</th>\n",
       "      <th>0.1</th>\n",
       "      <th>0.13333333333333333</th>\n",
       "      <th>0.15</th>\n",
       "      <th>0.16666666666666669</th>\n",
       "      <th>...</th>\n",
       "      <th>3.4</th>\n",
       "      <th>3.5</th>\n",
       "      <th>3.6</th>\n",
       "      <th>3.7</th>\n",
       "      <th>3.8</th>\n",
       "      <th>3.9</th>\n",
       "      <th>4.0</th>\n",
       "      <th>4.2</th>\n",
       "      <th>4.7</th>\n",
       "      <th>5.0</th>\n",
       "    </tr>\n",
       "  </thead>\n",
       "  <tbody>\n",
       "    <tr>\n",
       "      <th>price</th>\n",
       "      <td>1.000000</td>\n",
       "      <td>-0.001808</td>\n",
       "      <td>-0.000005</td>\n",
       "      <td>-0.000007</td>\n",
       "      <td>-0.000023</td>\n",
       "      <td>-0.000014</td>\n",
       "      <td>-0.000138</td>\n",
       "      <td>-0.000016</td>\n",
       "      <td>-0.000020</td>\n",
       "      <td>-0.000014</td>\n",
       "      <td>...</td>\n",
       "      <td>-0.000021</td>\n",
       "      <td>-0.000023</td>\n",
       "      <td>-0.000021</td>\n",
       "      <td>-0.000009</td>\n",
       "      <td>-0.000018</td>\n",
       "      <td>-0.000004</td>\n",
       "      <td>-0.000122</td>\n",
       "      <td>-0.000007</td>\n",
       "      <td>-0.000007</td>\n",
       "      <td>-0.000172</td>\n",
       "    </tr>\n",
       "    <tr>\n",
       "      <th>0.0</th>\n",
       "      <td>-0.001808</td>\n",
       "      <td>1.000000</td>\n",
       "      <td>-0.000911</td>\n",
       "      <td>-0.000911</td>\n",
       "      <td>-0.003529</td>\n",
       "      <td>-0.001823</td>\n",
       "      <td>-0.028455</td>\n",
       "      <td>-0.003157</td>\n",
       "      <td>-0.003286</td>\n",
       "      <td>-0.002411</td>\n",
       "      <td>...</td>\n",
       "      <td>-0.003410</td>\n",
       "      <td>-0.003972</td>\n",
       "      <td>-0.003645</td>\n",
       "      <td>-0.002411</td>\n",
       "      <td>-0.002577</td>\n",
       "      <td>-0.000911</td>\n",
       "      <td>-0.035066</td>\n",
       "      <td>-0.000911</td>\n",
       "      <td>-0.000911</td>\n",
       "      <td>-0.023569</td>\n",
       "    </tr>\n",
       "    <tr>\n",
       "      <th>0.04166666666666667</th>\n",
       "      <td>-0.000005</td>\n",
       "      <td>-0.000911</td>\n",
       "      <td>1.000000</td>\n",
       "      <td>-0.000002</td>\n",
       "      <td>-0.000008</td>\n",
       "      <td>-0.000004</td>\n",
       "      <td>-0.000068</td>\n",
       "      <td>-0.000008</td>\n",
       "      <td>-0.000008</td>\n",
       "      <td>-0.000006</td>\n",
       "      <td>...</td>\n",
       "      <td>-0.000008</td>\n",
       "      <td>-0.000010</td>\n",
       "      <td>-0.000009</td>\n",
       "      <td>-0.000006</td>\n",
       "      <td>-0.000006</td>\n",
       "      <td>-0.000002</td>\n",
       "      <td>-0.000084</td>\n",
       "      <td>-0.000002</td>\n",
       "      <td>-0.000002</td>\n",
       "      <td>-0.000056</td>\n",
       "    </tr>\n",
       "    <tr>\n",
       "      <th>0.05</th>\n",
       "      <td>-0.000007</td>\n",
       "      <td>-0.000911</td>\n",
       "      <td>-0.000002</td>\n",
       "      <td>1.000000</td>\n",
       "      <td>-0.000008</td>\n",
       "      <td>-0.000004</td>\n",
       "      <td>-0.000068</td>\n",
       "      <td>-0.000008</td>\n",
       "      <td>-0.000008</td>\n",
       "      <td>-0.000006</td>\n",
       "      <td>...</td>\n",
       "      <td>-0.000008</td>\n",
       "      <td>-0.000010</td>\n",
       "      <td>-0.000009</td>\n",
       "      <td>-0.000006</td>\n",
       "      <td>-0.000006</td>\n",
       "      <td>-0.000002</td>\n",
       "      <td>-0.000084</td>\n",
       "      <td>-0.000002</td>\n",
       "      <td>-0.000002</td>\n",
       "      <td>-0.000056</td>\n",
       "    </tr>\n",
       "    <tr>\n",
       "      <th>0.06666666666666667</th>\n",
       "      <td>-0.000023</td>\n",
       "      <td>-0.003529</td>\n",
       "      <td>-0.000008</td>\n",
       "      <td>-0.000008</td>\n",
       "      <td>1.000000</td>\n",
       "      <td>-0.000017</td>\n",
       "      <td>-0.000264</td>\n",
       "      <td>-0.000029</td>\n",
       "      <td>-0.000030</td>\n",
       "      <td>-0.000022</td>\n",
       "      <td>...</td>\n",
       "      <td>-0.000032</td>\n",
       "      <td>-0.000037</td>\n",
       "      <td>-0.000034</td>\n",
       "      <td>-0.000022</td>\n",
       "      <td>-0.000024</td>\n",
       "      <td>-0.000008</td>\n",
       "      <td>-0.000325</td>\n",
       "      <td>-0.000008</td>\n",
       "      <td>-0.000008</td>\n",
       "      <td>-0.000219</td>\n",
       "    </tr>\n",
       "    <tr>\n",
       "      <th>...</th>\n",
       "      <td>...</td>\n",
       "      <td>...</td>\n",
       "      <td>...</td>\n",
       "      <td>...</td>\n",
       "      <td>...</td>\n",
       "      <td>...</td>\n",
       "      <td>...</td>\n",
       "      <td>...</td>\n",
       "      <td>...</td>\n",
       "      <td>...</td>\n",
       "      <td>...</td>\n",
       "      <td>...</td>\n",
       "      <td>...</td>\n",
       "      <td>...</td>\n",
       "      <td>...</td>\n",
       "      <td>...</td>\n",
       "      <td>...</td>\n",
       "      <td>...</td>\n",
       "      <td>...</td>\n",
       "      <td>...</td>\n",
       "      <td>...</td>\n",
       "    </tr>\n",
       "    <tr>\n",
       "      <th>3.9</th>\n",
       "      <td>-0.000004</td>\n",
       "      <td>-0.000911</td>\n",
       "      <td>-0.000002</td>\n",
       "      <td>-0.000002</td>\n",
       "      <td>-0.000008</td>\n",
       "      <td>-0.000004</td>\n",
       "      <td>-0.000068</td>\n",
       "      <td>-0.000008</td>\n",
       "      <td>-0.000008</td>\n",
       "      <td>-0.000006</td>\n",
       "      <td>...</td>\n",
       "      <td>-0.000008</td>\n",
       "      <td>-0.000010</td>\n",
       "      <td>-0.000009</td>\n",
       "      <td>-0.000006</td>\n",
       "      <td>-0.000006</td>\n",
       "      <td>1.000000</td>\n",
       "      <td>-0.000084</td>\n",
       "      <td>-0.000002</td>\n",
       "      <td>-0.000002</td>\n",
       "      <td>-0.000056</td>\n",
       "    </tr>\n",
       "    <tr>\n",
       "      <th>4.0</th>\n",
       "      <td>-0.000122</td>\n",
       "      <td>-0.035066</td>\n",
       "      <td>-0.000084</td>\n",
       "      <td>-0.000084</td>\n",
       "      <td>-0.000325</td>\n",
       "      <td>-0.000168</td>\n",
       "      <td>-0.002623</td>\n",
       "      <td>-0.000291</td>\n",
       "      <td>-0.000303</td>\n",
       "      <td>-0.000222</td>\n",
       "      <td>...</td>\n",
       "      <td>-0.000314</td>\n",
       "      <td>-0.000366</td>\n",
       "      <td>-0.000336</td>\n",
       "      <td>-0.000222</td>\n",
       "      <td>-0.000238</td>\n",
       "      <td>-0.000084</td>\n",
       "      <td>1.000000</td>\n",
       "      <td>-0.000084</td>\n",
       "      <td>-0.000084</td>\n",
       "      <td>-0.002172</td>\n",
       "    </tr>\n",
       "    <tr>\n",
       "      <th>4.2</th>\n",
       "      <td>-0.000007</td>\n",
       "      <td>-0.000911</td>\n",
       "      <td>-0.000002</td>\n",
       "      <td>-0.000002</td>\n",
       "      <td>-0.000008</td>\n",
       "      <td>-0.000004</td>\n",
       "      <td>-0.000068</td>\n",
       "      <td>-0.000008</td>\n",
       "      <td>-0.000008</td>\n",
       "      <td>-0.000006</td>\n",
       "      <td>...</td>\n",
       "      <td>-0.000008</td>\n",
       "      <td>-0.000010</td>\n",
       "      <td>-0.000009</td>\n",
       "      <td>-0.000006</td>\n",
       "      <td>-0.000006</td>\n",
       "      <td>-0.000002</td>\n",
       "      <td>-0.000084</td>\n",
       "      <td>1.000000</td>\n",
       "      <td>-0.000002</td>\n",
       "      <td>-0.000056</td>\n",
       "    </tr>\n",
       "    <tr>\n",
       "      <th>4.7</th>\n",
       "      <td>-0.000007</td>\n",
       "      <td>-0.000911</td>\n",
       "      <td>-0.000002</td>\n",
       "      <td>-0.000002</td>\n",
       "      <td>-0.000008</td>\n",
       "      <td>-0.000004</td>\n",
       "      <td>-0.000068</td>\n",
       "      <td>-0.000008</td>\n",
       "      <td>-0.000008</td>\n",
       "      <td>-0.000006</td>\n",
       "      <td>...</td>\n",
       "      <td>-0.000008</td>\n",
       "      <td>-0.000010</td>\n",
       "      <td>-0.000009</td>\n",
       "      <td>-0.000006</td>\n",
       "      <td>-0.000006</td>\n",
       "      <td>-0.000002</td>\n",
       "      <td>-0.000084</td>\n",
       "      <td>-0.000002</td>\n",
       "      <td>1.000000</td>\n",
       "      <td>-0.000056</td>\n",
       "    </tr>\n",
       "    <tr>\n",
       "      <th>5.0</th>\n",
       "      <td>-0.000172</td>\n",
       "      <td>-0.023569</td>\n",
       "      <td>-0.000056</td>\n",
       "      <td>-0.000056</td>\n",
       "      <td>-0.000219</td>\n",
       "      <td>-0.000113</td>\n",
       "      <td>-0.001763</td>\n",
       "      <td>-0.000196</td>\n",
       "      <td>-0.000204</td>\n",
       "      <td>-0.000149</td>\n",
       "      <td>...</td>\n",
       "      <td>-0.000211</td>\n",
       "      <td>-0.000246</td>\n",
       "      <td>-0.000226</td>\n",
       "      <td>-0.000149</td>\n",
       "      <td>-0.000160</td>\n",
       "      <td>-0.000056</td>\n",
       "      <td>-0.002172</td>\n",
       "      <td>-0.000056</td>\n",
       "      <td>-0.000056</td>\n",
       "      <td>1.000000</td>\n",
       "    </tr>\n",
       "  </tbody>\n",
       "</table>\n",
       "<p>249 rows × 249 columns</p>\n",
       "</div>"
      ],
      "text/plain": [
       "                        price       0.0  0.04166666666666667      0.05  \\\n",
       "price                1.000000 -0.001808            -0.000005 -0.000007   \n",
       "0.0                 -0.001808  1.000000            -0.000911 -0.000911   \n",
       "0.04166666666666667 -0.000005 -0.000911             1.000000 -0.000002   \n",
       "0.05                -0.000007 -0.000911            -0.000002  1.000000   \n",
       "0.06666666666666667 -0.000023 -0.003529            -0.000008 -0.000008   \n",
       "...                       ...       ...                  ...       ...   \n",
       "3.9                 -0.000004 -0.000911            -0.000002 -0.000002   \n",
       "4.0                 -0.000122 -0.035066            -0.000084 -0.000084   \n",
       "4.2                 -0.000007 -0.000911            -0.000002 -0.000002   \n",
       "4.7                 -0.000007 -0.000911            -0.000002 -0.000002   \n",
       "5.0                 -0.000172 -0.023569            -0.000056 -0.000056   \n",
       "\n",
       "                     0.06666666666666667     0.075       0.1  \\\n",
       "price                          -0.000023 -0.000014 -0.000138   \n",
       "0.0                            -0.003529 -0.001823 -0.028455   \n",
       "0.04166666666666667            -0.000008 -0.000004 -0.000068   \n",
       "0.05                           -0.000008 -0.000004 -0.000068   \n",
       "0.06666666666666667             1.000000 -0.000017 -0.000264   \n",
       "...                                  ...       ...       ...   \n",
       "3.9                            -0.000008 -0.000004 -0.000068   \n",
       "4.0                            -0.000325 -0.000168 -0.002623   \n",
       "4.2                            -0.000008 -0.000004 -0.000068   \n",
       "4.7                            -0.000008 -0.000004 -0.000068   \n",
       "5.0                            -0.000219 -0.000113 -0.001763   \n",
       "\n",
       "                     0.13333333333333333      0.15  0.16666666666666669  ...  \\\n",
       "price                          -0.000016 -0.000020            -0.000014  ...   \n",
       "0.0                            -0.003157 -0.003286            -0.002411  ...   \n",
       "0.04166666666666667            -0.000008 -0.000008            -0.000006  ...   \n",
       "0.05                           -0.000008 -0.000008            -0.000006  ...   \n",
       "0.06666666666666667            -0.000029 -0.000030            -0.000022  ...   \n",
       "...                                  ...       ...                  ...  ...   \n",
       "3.9                            -0.000008 -0.000008            -0.000006  ...   \n",
       "4.0                            -0.000291 -0.000303            -0.000222  ...   \n",
       "4.2                            -0.000008 -0.000008            -0.000006  ...   \n",
       "4.7                            -0.000008 -0.000008            -0.000006  ...   \n",
       "5.0                            -0.000196 -0.000204            -0.000149  ...   \n",
       "\n",
       "                          3.4       3.5       3.6       3.7       3.8  \\\n",
       "price               -0.000021 -0.000023 -0.000021 -0.000009 -0.000018   \n",
       "0.0                 -0.003410 -0.003972 -0.003645 -0.002411 -0.002577   \n",
       "0.04166666666666667 -0.000008 -0.000010 -0.000009 -0.000006 -0.000006   \n",
       "0.05                -0.000008 -0.000010 -0.000009 -0.000006 -0.000006   \n",
       "0.06666666666666667 -0.000032 -0.000037 -0.000034 -0.000022 -0.000024   \n",
       "...                       ...       ...       ...       ...       ...   \n",
       "3.9                 -0.000008 -0.000010 -0.000009 -0.000006 -0.000006   \n",
       "4.0                 -0.000314 -0.000366 -0.000336 -0.000222 -0.000238   \n",
       "4.2                 -0.000008 -0.000010 -0.000009 -0.000006 -0.000006   \n",
       "4.7                 -0.000008 -0.000010 -0.000009 -0.000006 -0.000006   \n",
       "5.0                 -0.000211 -0.000246 -0.000226 -0.000149 -0.000160   \n",
       "\n",
       "                          3.9       4.0       4.2       4.7       5.0  \n",
       "price               -0.000004 -0.000122 -0.000007 -0.000007 -0.000172  \n",
       "0.0                 -0.000911 -0.035066 -0.000911 -0.000911 -0.023569  \n",
       "0.04166666666666667 -0.000002 -0.000084 -0.000002 -0.000002 -0.000056  \n",
       "0.05                -0.000002 -0.000084 -0.000002 -0.000002 -0.000056  \n",
       "0.06666666666666667 -0.000008 -0.000325 -0.000008 -0.000008 -0.000219  \n",
       "...                       ...       ...       ...       ...       ...  \n",
       "3.9                  1.000000 -0.000084 -0.000002 -0.000002 -0.000056  \n",
       "4.0                 -0.000084  1.000000 -0.000084 -0.000084 -0.002172  \n",
       "4.2                 -0.000002 -0.000084  1.000000 -0.000002 -0.000056  \n",
       "4.7                 -0.000002 -0.000084 -0.000002  1.000000 -0.000056  \n",
       "5.0                 -0.000056 -0.002172 -0.000056 -0.000056  1.000000  \n",
       "\n",
       "[249 rows x 249 columns]"
      ]
     },
     "execution_count": 44,
     "metadata": {},
     "output_type": "execute_result"
    }
   ],
   "source": [
    "df_condition.corr()"
   ]
  },
  {
   "cell_type": "code",
   "execution_count": 45,
   "metadata": {},
   "outputs": [
    {
     "ename": "AttributeError",
     "evalue": "'DataFrame' object has no attribute 'excellent'",
     "output_type": "error",
     "traceback": [
      "\u001b[0;31m---------------------------------------------------------------------------\u001b[0m",
      "\u001b[0;31mAttributeError\u001b[0m                            Traceback (most recent call last)",
      "\u001b[0;32m<ipython-input-45-51148e8a1890>\u001b[0m in \u001b[0;36m<module>\u001b[0;34m\u001b[0m\n\u001b[1;32m      2\u001b[0m \u001b[0;32mfrom\u001b[0m \u001b[0mscipy\u001b[0m\u001b[0;34m.\u001b[0m\u001b[0mstats\u001b[0m \u001b[0;32mimport\u001b[0m \u001b[0mkruskal\u001b[0m\u001b[0;34m\u001b[0m\u001b[0;34m\u001b[0m\u001b[0m\n\u001b[1;32m      3\u001b[0m \u001b[0;32mfrom\u001b[0m \u001b[0mscipy\u001b[0m\u001b[0;34m.\u001b[0m\u001b[0mstats\u001b[0m \u001b[0;32mimport\u001b[0m \u001b[0mf_oneway\u001b[0m\u001b[0;34m\u001b[0m\u001b[0;34m\u001b[0m\u001b[0m\n\u001b[0;32m----> 4\u001b[0;31m \u001b[0mprint\u001b[0m\u001b[0;34m(\u001b[0m\u001b[0mpointbiserialr\u001b[0m\u001b[0;34m(\u001b[0m\u001b[0mdf_condition\u001b[0m\u001b[0;34m.\u001b[0m\u001b[0mprice\u001b[0m\u001b[0;34m,\u001b[0m \u001b[0mdf_condition\u001b[0m\u001b[0;34m.\u001b[0m\u001b[0mexcellent\u001b[0m\u001b[0;34m)\u001b[0m\u001b[0;34m)\u001b[0m\u001b[0;34m\u001b[0m\u001b[0;34m\u001b[0m\u001b[0m\n\u001b[0m\u001b[1;32m      5\u001b[0m \u001b[0mprint\u001b[0m\u001b[0;34m(\u001b[0m\u001b[0mkruskal\u001b[0m\u001b[0;34m(\u001b[0m\u001b[0mdf_condition\u001b[0m\u001b[0;34m.\u001b[0m\u001b[0mprice\u001b[0m\u001b[0;34m,\u001b[0m \u001b[0mdf_condition\u001b[0m\u001b[0;34m.\u001b[0m\u001b[0mexcellent\u001b[0m\u001b[0;34m)\u001b[0m\u001b[0;34m)\u001b[0m\u001b[0;34m\u001b[0m\u001b[0;34m\u001b[0m\u001b[0m\n\u001b[1;32m      6\u001b[0m \u001b[0mprint\u001b[0m\u001b[0;34m(\u001b[0m\u001b[0mf_oneway\u001b[0m\u001b[0;34m(\u001b[0m\u001b[0mdf_condition\u001b[0m\u001b[0;34m.\u001b[0m\u001b[0mprice\u001b[0m\u001b[0;34m,\u001b[0m \u001b[0mdf_condition\u001b[0m\u001b[0;34m.\u001b[0m\u001b[0mexcellent\u001b[0m\u001b[0;34m)\u001b[0m\u001b[0;34m)\u001b[0m\u001b[0;34m\u001b[0m\u001b[0;34m\u001b[0m\u001b[0m\n",
      "\u001b[0;32m~/anaconda3/lib/python3.8/site-packages/pandas/core/generic.py\u001b[0m in \u001b[0;36m__getattr__\u001b[0;34m(self, name)\u001b[0m\n\u001b[1;32m   5139\u001b[0m             \u001b[0;32mif\u001b[0m \u001b[0mself\u001b[0m\u001b[0;34m.\u001b[0m\u001b[0m_info_axis\u001b[0m\u001b[0;34m.\u001b[0m\u001b[0m_can_hold_identifiers_and_holds_name\u001b[0m\u001b[0;34m(\u001b[0m\u001b[0mname\u001b[0m\u001b[0;34m)\u001b[0m\u001b[0;34m:\u001b[0m\u001b[0;34m\u001b[0m\u001b[0;34m\u001b[0m\u001b[0m\n\u001b[1;32m   5140\u001b[0m                 \u001b[0;32mreturn\u001b[0m \u001b[0mself\u001b[0m\u001b[0;34m[\u001b[0m\u001b[0mname\u001b[0m\u001b[0;34m]\u001b[0m\u001b[0;34m\u001b[0m\u001b[0;34m\u001b[0m\u001b[0m\n\u001b[0;32m-> 5141\u001b[0;31m             \u001b[0;32mreturn\u001b[0m \u001b[0mobject\u001b[0m\u001b[0;34m.\u001b[0m\u001b[0m__getattribute__\u001b[0m\u001b[0;34m(\u001b[0m\u001b[0mself\u001b[0m\u001b[0;34m,\u001b[0m \u001b[0mname\u001b[0m\u001b[0;34m)\u001b[0m\u001b[0;34m\u001b[0m\u001b[0;34m\u001b[0m\u001b[0m\n\u001b[0m\u001b[1;32m   5142\u001b[0m \u001b[0;34m\u001b[0m\u001b[0m\n\u001b[1;32m   5143\u001b[0m     \u001b[0;32mdef\u001b[0m \u001b[0m__setattr__\u001b[0m\u001b[0;34m(\u001b[0m\u001b[0mself\u001b[0m\u001b[0;34m,\u001b[0m \u001b[0mname\u001b[0m\u001b[0;34m:\u001b[0m \u001b[0mstr\u001b[0m\u001b[0;34m,\u001b[0m \u001b[0mvalue\u001b[0m\u001b[0;34m)\u001b[0m \u001b[0;34m->\u001b[0m \u001b[0;32mNone\u001b[0m\u001b[0;34m:\u001b[0m\u001b[0;34m\u001b[0m\u001b[0;34m\u001b[0m\u001b[0m\n",
      "\u001b[0;31mAttributeError\u001b[0m: 'DataFrame' object has no attribute 'excellent'"
     ]
    }
   ],
   "source": [
    "from scipy.stats import pointbiserialr\n",
    "from scipy.stats import kruskal\n",
    "from scipy.stats import f_oneway\n",
    "print(pointbiserialr(df_condition.price, df_condition.excellent))\n",
    "print(kruskal(df_condition.price, df_condition.excellent))\n",
    "print(f_oneway(df_condition.price, df_condition.excellent))"
   ]
  },
  {
   "cell_type": "code",
   "execution_count": null,
   "metadata": {},
   "outputs": [],
   "source": []
  },
  {
   "cell_type": "code",
   "execution_count": null,
   "metadata": {},
   "outputs": [],
   "source": []
  },
  {
   "cell_type": "code",
   "execution_count": null,
   "metadata": {},
   "outputs": [],
   "source": []
  },
  {
   "cell_type": "code",
   "execution_count": null,
   "metadata": {},
   "outputs": [],
   "source": []
  }
 ],
 "metadata": {
  "kernelspec": {
   "display_name": "Python 3",
   "language": "python",
   "name": "python3"
  },
  "language_info": {
   "codemirror_mode": {
    "name": "ipython",
    "version": 3
   },
   "file_extension": ".py",
   "mimetype": "text/x-python",
   "name": "python",
   "nbconvert_exporter": "python",
   "pygments_lexer": "ipython3",
   "version": "3.8.5"
  }
 },
 "nbformat": 4,
 "nbformat_minor": 4
}
